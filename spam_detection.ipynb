{
 "cells": [
  {
   "cell_type": "markdown",
   "metadata": {},
   "source": [
    "## 1. Data import"
   ]
  },
  {
   "cell_type": "markdown",
   "metadata": {},
   "source": [
    "### Library Set-up"
   ]
  },
  {
   "cell_type": "code",
   "execution_count": 3,
   "metadata": {},
   "outputs": [
    {
     "data": {
      "text/html": [
       "<style scoped>\n",
       "  .ansiout {\n",
       "    display: block;\n",
       "    unicode-bidi: embed;\n",
       "    white-space: pre-wrap;\n",
       "    word-wrap: break-word;\n",
       "    word-break: break-all;\n",
       "    font-family: \"Source Code Pro\", \"Menlo\", monospace;;\n",
       "    font-size: 13px;\n",
       "    color: #555;\n",
       "    margin-left: 4px;\n",
       "    line-height: 19px;\n",
       "  }\n",
       "</style>\n",
       "<div class=\"ansiout\"></div>"
      ]
     },
     "metadata": {},
     "output_type": "display_data"
    }
   ],
   "source": [
    "!pip install wordcloud"
   ]
  },
  {
   "cell_type": "code",
   "execution_count": 4,
   "metadata": {},
   "outputs": [
    {
     "data": {
      "text/html": [
       "<style scoped>\n",
       "  .ansiout {\n",
       "    display: block;\n",
       "    unicode-bidi: embed;\n",
       "    white-space: pre-wrap;\n",
       "    word-wrap: break-word;\n",
       "    word-break: break-all;\n",
       "    font-family: \"Source Code Pro\", \"Menlo\", monospace;;\n",
       "    font-size: 13px;\n",
       "    color: #555;\n",
       "    margin-left: 4px;\n",
       "    line-height: 19px;\n",
       "  }\n",
       "</style>\n",
       "<div class=\"ansiout\">/databricks/python/lib/python3.7/site-packages/nltk/decorators.py:68: DeprecationWarning: `formatargspec` is deprecated since Python 3.5. Use `signature` and the `Signature` object directly\n",
       "  regargs, varargs, varkwargs, defaults, formatvalue=lambda value: &#34;&#34;\n",
       "/databricks/python/lib/python3.7/site-packages/nltk/lm/counter.py:15: DeprecationWarning: Using or importing the ABCs from &#39;collections&#39; instead of from &#39;collections.abc&#39; is deprecated since Python 3.3,and in 3.9 it will stop working\n",
       "  from collections import Sequence, defaultdict\n",
       "[nltk_data] Downloading package wordnet to /root/nltk_data...\n",
       "[nltk_data]   Unzipping corpora/wordnet.zip.\n",
       "</div>"
      ]
     },
     "metadata": {},
     "output_type": "display_data"
    }
   ],
   "source": [
    "import pandas as pd\n",
    "import numpy as np\n",
    "from itertools import product\n",
    "\n",
    "from pyspark.sql.functions import *\n",
    "from pyspark.sql import DataFrame\n",
    "from pyspark.sql.types import ArrayType, StringType\n",
    "from pyspark.ml.feature import Tokenizer, StopWordsRemover, \\\n",
    "CountVectorizer, HashingTF, IDF, StringIndexer,\\\n",
    "CountVectorizerModel\n",
    "from pyspark.ml.pipeline import Pipeline, Transformer\n",
    "from pyspark.ml.classification import LogisticRegression, NaiveBayes,\\\n",
    "LinearSVC, DecisionTreeClassifier, RandomForestClassifier, GBTClassifier,\\\n",
    "NaiveBayesModel, LinearSVCModel\n",
    "from pyspark.ml.evaluation import MulticlassClassificationEvaluator\n",
    "from pyspark.ml.tuning import CrossValidator, ParamGridBuilder\n",
    "from pyspark.mllib.evaluation import MulticlassMetrics\n",
    "\n",
    "import nltk\n",
    "nltk.download('wordnet')\n",
    "from nltk.stem.snowball import SnowballStemmer\n",
    "from nltk.stem.wordnet import WordNetLemmatizer\n",
    "from wordcloud import WordCloud\n",
    "\n",
    "import seaborn as sns\n",
    "import matplotlib.pyplot as plt"
   ]
  },
  {
   "cell_type": "markdown",
   "metadata": {},
   "source": [
    "### Fetch data from S3"
   ]
  },
  {
   "cell_type": "code",
   "execution_count": 6,
   "metadata": {},
   "outputs": [
    {
     "data": {
      "text/html": [
       "<style scoped>\n",
       "  .table-result-container {\n",
       "    max-height: 300px;\n",
       "    overflow: auto;\n",
       "  }\n",
       "  table, th, td {\n",
       "    border: 1px solid black;\n",
       "    border-collapse: collapse;\n",
       "  }\n",
       "  th, td {\n",
       "    padding: 5px;\n",
       "  }\n",
       "  th {\n",
       "    text-align: left;\n",
       "  }\n",
       "</style><div class='table-result-container'><table class='table-result'><thead style='background-color: white'><tr><th>path</th><th>name</th><th>size</th></tr></thead><tbody><tr><td>dbfs:/mnt/spam/spam.csv</td><td>spam.csv</td><td>503663</td></tr></tbody></table></div>"
      ]
     },
     "metadata": {},
     "output_type": "display_data"
    }
   ],
   "source": [
    "ACCESS_KEY = \"\"\n",
    "SECRET_KEY = \"\"\n",
    "ENCODED_SECRET_KEY = SECRET_KEY.replace(\"/\", \"%2F\")\n",
    "BUCKET_NAME = \"spam\"\n",
    "MOUNT_NAME = \"spam\"\n",
    "\n",
    "try:\n",
    "  dbutils.fs.unmount(\"/mnt/%s/\" % MOUNT_NAME)\n",
    "except:\n",
    "  print(\"Could not unmount %s for first time import.\" % MOUNT_NAME)\n",
    "\n",
    "dbutils.fs.mount(\"s3a://%s:%s@%s\" % (ACCESS_KEY, ENCODED_SECRET_KEY, BUCKET_NAME), \"/mnt/%s\" % MOUNT_NAME)\n",
    "display(dbutils.fs.ls(\"/mnt/%s\" % MOUNT_NAME))"
   ]
  },
  {
   "cell_type": "markdown",
   "metadata": {},
   "source": [
    "## 2. Preprocessing & EDA"
   ]
  },
  {
   "cell_type": "code",
   "execution_count": 8,
   "metadata": {},
   "outputs": [
    {
     "data": {
      "text/html": [
       "<style scoped>\n",
       "  .ansiout {\n",
       "    display: block;\n",
       "    unicode-bidi: embed;\n",
       "    white-space: pre-wrap;\n",
       "    word-wrap: break-word;\n",
       "    word-break: break-all;\n",
       "    font-family: \"Source Code Pro\", \"Menlo\", monospace;;\n",
       "    font-size: 13px;\n",
       "    color: #555;\n",
       "    margin-left: 4px;\n",
       "    line-height: 19px;\n",
       "  }\n",
       "</style>\n",
       "<div class=\"ansiout\">+----+--------------------+----+----+----+\n",
       "  v1|                  v2| _c2| _c3| _c4|\n",
       "+----+--------------------+----+----+----+\n",
       " ham|Go until jurong p...|null|null|null|\n",
       " ham|Ok lar... Joking ...|null|null|null|\n",
       "spam|Free entry in 2 a...|null|null|null|\n",
       " ham|U dun say so earl...|null|null|null|\n",
       " ham|Nah I don&#39;t think...|null|null|null|\n",
       "spam|FreeMsg Hey there...|null|null|null|\n",
       " ham|Even my brother i...|null|null|null|\n",
       " ham|As per your reque...|null|null|null|\n",
       "spam|WINNER!! As a val...|null|null|null|\n",
       "spam|Had your mobile 1...|null|null|null|\n",
       "+----+--------------------+----+----+----+\n",
       "only showing top 10 rows\n",
       "\n",
       "</div>"
      ]
     },
     "metadata": {},
     "output_type": "display_data"
    }
   ],
   "source": [
    "spam = spark.read.format('csv')\\\n",
    "            .options(header='true', inferSchema='true')\\\n",
    "            .load('/mnt/spam/spam.csv')\n",
    "spam.show(10)"
   ]
  },
  {
   "cell_type": "code",
   "execution_count": 9,
   "metadata": {},
   "outputs": [
    {
     "data": {
      "text/html": [
       "<style scoped>\n",
       "  .ansiout {\n",
       "    display: block;\n",
       "    unicode-bidi: embed;\n",
       "    white-space: pre-wrap;\n",
       "    word-wrap: break-word;\n",
       "    word-break: break-all;\n",
       "    font-family: \"Source Code Pro\", \"Menlo\", monospace;;\n",
       "    font-size: 13px;\n",
       "    color: #555;\n",
       "    margin-left: 4px;\n",
       "    line-height: 19px;\n",
       "  }\n",
       "</style>\n",
       "<div class=\"ansiout\">root\n",
       "-- v1: string (nullable = true)\n",
       "-- v2: string (nullable = true)\n",
       "-- _c2: string (nullable = true)\n",
       "-- _c3: string (nullable = true)\n",
       "-- _c4: string (nullable = true)\n",
       "\n",
       "</div>"
      ]
     },
     "metadata": {},
     "output_type": "display_data"
    }
   ],
   "source": [
    "spam.printSchema()"
   ]
  },
  {
   "cell_type": "markdown",
   "metadata": {},
   "source": [
    "Drop the last three columns which are not relevant for the task"
   ]
  },
  {
   "cell_type": "code",
   "execution_count": 11,
   "metadata": {},
   "outputs": [
    {
     "data": {
      "text/html": [
       "<style scoped>\n",
       "  .ansiout {\n",
       "    display: block;\n",
       "    unicode-bidi: embed;\n",
       "    white-space: pre-wrap;\n",
       "    word-wrap: break-word;\n",
       "    word-break: break-all;\n",
       "    font-family: \"Source Code Pro\", \"Menlo\", monospace;;\n",
       "    font-size: 13px;\n",
       "    color: #555;\n",
       "    margin-left: 4px;\n",
       "    line-height: 19px;\n",
       "  }\n",
       "</style>\n",
       "<div class=\"ansiout\"></div>"
      ]
     },
     "metadata": {},
     "output_type": "display_data"
    }
   ],
   "source": [
    "columns_to_drop = ['_c2', '_c3', '_c4']\n",
    "spam = spam.drop(*columns_to_drop)"
   ]
  },
  {
   "cell_type": "markdown",
   "metadata": {},
   "source": [
    "Rename the first two columns"
   ]
  },
  {
   "cell_type": "code",
   "execution_count": 13,
   "metadata": {},
   "outputs": [
    {
     "data": {
      "text/html": [
       "<style scoped>\n",
       "  .ansiout {\n",
       "    display: block;\n",
       "    unicode-bidi: embed;\n",
       "    white-space: pre-wrap;\n",
       "    word-wrap: break-word;\n",
       "    word-break: break-all;\n",
       "    font-family: \"Source Code Pro\", \"Menlo\", monospace;;\n",
       "    font-size: 13px;\n",
       "    color: #555;\n",
       "    margin-left: 4px;\n",
       "    line-height: 19px;\n",
       "  }\n",
       "</style>\n",
       "<div class=\"ansiout\">+-----+--------------------+\n",
       "label|                text|\n",
       "+-----+--------------------+\n",
       "  ham|Go until jurong p...|\n",
       "  ham|Ok lar... Joking ...|\n",
       " spam|Free entry in 2 a...|\n",
       "  ham|U dun say so earl...|\n",
       "  ham|Nah I don&#39;t think...|\n",
       " spam|FreeMsg Hey there...|\n",
       "  ham|Even my brother i...|\n",
       "  ham|As per your reque...|\n",
       " spam|WINNER!! As a val...|\n",
       " spam|Had your mobile 1...|\n",
       "+-----+--------------------+\n",
       "only showing top 10 rows\n",
       "\n",
       "</div>"
      ]
     },
     "metadata": {},
     "output_type": "display_data"
    }
   ],
   "source": [
    "spam = spam.withColumnRenamed('v1','label')\n",
    "spam = spam.withColumnRenamed('v2','text')\n",
    "spam.show(10)"
   ]
  },
  {
   "cell_type": "code",
   "execution_count": 14,
   "metadata": {},
   "outputs": [
    {
     "data": {
      "text/html": [
       "<style scoped>\n",
       "  .ansiout {\n",
       "    display: block;\n",
       "    unicode-bidi: embed;\n",
       "    white-space: pre-wrap;\n",
       "    word-wrap: break-word;\n",
       "    word-break: break-all;\n",
       "    font-family: \"Source Code Pro\", \"Menlo\", monospace;;\n",
       "    font-size: 13px;\n",
       "    color: #555;\n",
       "    margin-left: 4px;\n",
       "    line-height: 19px;\n",
       "  }\n",
       "</style>\n",
       "<div class=\"ansiout\">Out[8]: 5574</div>"
      ]
     },
     "metadata": {},
     "output_type": "display_data"
    }
   ],
   "source": [
    "spam.count()"
   ]
  },
  {
   "cell_type": "markdown",
   "metadata": {},
   "source": [
    "### Missing values"
   ]
  },
  {
   "cell_type": "code",
   "execution_count": 16,
   "metadata": {},
   "outputs": [
    {
     "data": {
      "text/html": [
       "<style scoped>\n",
       "  .ansiout {\n",
       "    display: block;\n",
       "    unicode-bidi: embed;\n",
       "    white-space: pre-wrap;\n",
       "    word-wrap: break-word;\n",
       "    word-break: break-all;\n",
       "    font-family: \"Source Code Pro\", \"Menlo\", monospace;;\n",
       "    font-size: 13px;\n",
       "    color: #555;\n",
       "    margin-left: 4px;\n",
       "    line-height: 19px;\n",
       "  }\n",
       "</style>\n",
       "<div class=\"ansiout\">+------+----+\n",
       " label|text|\n",
       "+------+----+\n",
       "ham&#34;&#34;&#34;|null|\n",
       "+------+----+\n",
       "\n",
       "</div>"
      ]
     },
     "metadata": {},
     "output_type": "display_data"
    }
   ],
   "source": [
    "spam.where('label is NULL or text is NULL').show()"
   ]
  },
  {
   "cell_type": "code",
   "execution_count": 17,
   "metadata": {},
   "outputs": [
    {
     "data": {
      "text/html": [
       "<style scoped>\n",
       "  .ansiout {\n",
       "    display: block;\n",
       "    unicode-bidi: embed;\n",
       "    white-space: pre-wrap;\n",
       "    word-wrap: break-word;\n",
       "    word-break: break-all;\n",
       "    font-family: \"Source Code Pro\", \"Menlo\", monospace;;\n",
       "    font-size: 13px;\n",
       "    color: #555;\n",
       "    margin-left: 4px;\n",
       "    line-height: 19px;\n",
       "  }\n",
       "</style>\n",
       "<div class=\"ansiout\">Out[10]: 5573</div>"
      ]
     },
     "metadata": {},
     "output_type": "display_data"
    }
   ],
   "source": [
    "# Drop missing values\n",
    "spam = spam.dropna()\n",
    "spam.count()"
   ]
  },
  {
   "cell_type": "markdown",
   "metadata": {},
   "source": [
    "Reformat labels"
   ]
  },
  {
   "cell_type": "code",
   "execution_count": 19,
   "metadata": {},
   "outputs": [
    {
     "data": {
      "text/html": [
       "<style scoped>\n",
       "  .ansiout {\n",
       "    display: block;\n",
       "    unicode-bidi: embed;\n",
       "    white-space: pre-wrap;\n",
       "    word-wrap: break-word;\n",
       "    word-break: break-all;\n",
       "    font-family: \"Source Code Pro\", \"Menlo\", monospace;;\n",
       "    font-size: 13px;\n",
       "    color: #555;\n",
       "    margin-left: 4px;\n",
       "    line-height: 19px;\n",
       "  }\n",
       "</style>\n",
       "<div class=\"ansiout\">+------+\n",
       " label|\n",
       "+------+\n",
       "ham&#34;&#34;&#34;|\n",
       "   ham|\n",
       "  spam|\n",
       "+------+\n",
       "\n",
       "</div>"
      ]
     },
     "metadata": {},
     "output_type": "display_data"
    }
   ],
   "source": [
    "spam.select('label').distinct().show()"
   ]
  },
  {
   "cell_type": "code",
   "execution_count": 20,
   "metadata": {},
   "outputs": [
    {
     "data": {
      "text/html": [
       "<style scoped>\n",
       "  .ansiout {\n",
       "    display: block;\n",
       "    unicode-bidi: embed;\n",
       "    white-space: pre-wrap;\n",
       "    word-wrap: break-word;\n",
       "    word-break: break-all;\n",
       "    font-family: \"Source Code Pro\", \"Menlo\", monospace;;\n",
       "    font-size: 13px;\n",
       "    color: #555;\n",
       "    margin-left: 4px;\n",
       "    line-height: 19px;\n",
       "  }\n",
       "</style>\n",
       "<div class=\"ansiout\"></div>"
      ]
     },
     "metadata": {},
     "output_type": "display_data"
    }
   ],
   "source": [
    "spam = spam.withColumn('label', regexp_replace('label', '\"\"\"', ''))"
   ]
  },
  {
   "cell_type": "code",
   "execution_count": 21,
   "metadata": {},
   "outputs": [
    {
     "data": {
      "text/html": [
       "<style scoped>\n",
       "  .ansiout {\n",
       "    display: block;\n",
       "    unicode-bidi: embed;\n",
       "    white-space: pre-wrap;\n",
       "    word-wrap: break-word;\n",
       "    word-break: break-all;\n",
       "    font-family: \"Source Code Pro\", \"Menlo\", monospace;;\n",
       "    font-size: 13px;\n",
       "    color: #555;\n",
       "    margin-left: 4px;\n",
       "    line-height: 19px;\n",
       "  }\n",
       "</style>\n",
       "<div class=\"ansiout\">+-----+\n",
       "label|\n",
       "+-----+\n",
       "  ham|\n",
       " spam|\n",
       "+-----+\n",
       "\n",
       "</div>"
      ]
     },
     "metadata": {},
     "output_type": "display_data"
    }
   ],
   "source": [
    "spam.select('label').distinct().show()"
   ]
  },
  {
   "cell_type": "markdown",
   "metadata": {},
   "source": [
    "### Target: class balance"
   ]
  },
  {
   "cell_type": "code",
   "execution_count": 23,
   "metadata": {},
   "outputs": [
    {
     "data": {
      "text/html": [
       "<style scoped>\n",
       "  .ansiout {\n",
       "    display: block;\n",
       "    unicode-bidi: embed;\n",
       "    white-space: pre-wrap;\n",
       "    word-wrap: break-word;\n",
       "    word-break: break-all;\n",
       "    font-family: \"Source Code Pro\", \"Menlo\", monospace;;\n",
       "    font-size: 13px;\n",
       "    color: #555;\n",
       "    margin-left: 4px;\n",
       "    line-height: 19px;\n",
       "  }\n",
       "</style>\n",
       "<div class=\"ansiout\">+-----+-----+\n",
       "label|count|\n",
       "+-----+-----+\n",
       "  ham| 4826|\n",
       " spam|  747|\n",
       "+-----+-----+\n",
       "\n",
       "</div>"
      ]
     },
     "metadata": {},
     "output_type": "display_data"
    }
   ],
   "source": [
    "spam.groupby('label').count().show()"
   ]
  },
  {
   "cell_type": "code",
   "execution_count": 24,
   "metadata": {},
   "outputs": [
    {
     "data": {
      "image/png": "[encoded data removed]"
     },
     "metadata": {},
     "output_type": "display_data"
    }
   ],
   "source": [
    "label_count = spam.groupby('label').count().toPandas()\n",
    "label_count.plot(x='label', y='count', kind='bar', legend=None)\n",
    "plt.xticks(rotation=0)\n",
    "plt.ylabel('count')\n",
    "plt.title('Label count: spam messages are rare')"
   ]
  },
  {
   "cell_type": "markdown",
   "metadata": {},
   "source": [
    "### Wordcloud"
   ]
  },
  {
   "cell_type": "code",
   "execution_count": 26,
   "metadata": {},
   "outputs": [
    {
     "data": {
      "text/html": [
       "<style scoped>\n",
       "  .ansiout {\n",
       "    display: block;\n",
       "    unicode-bidi: embed;\n",
       "    white-space: pre-wrap;\n",
       "    word-wrap: break-word;\n",
       "    word-break: break-all;\n",
       "    font-family: \"Source Code Pro\", \"Menlo\", monospace;;\n",
       "    font-size: 13px;\n",
       "    color: #555;\n",
       "    margin-left: 4px;\n",
       "    line-height: 19px;\n",
       "  }\n",
       "</style>\n",
       "<div class=\"ansiout\"></div>"
      ]
     },
     "metadata": {},
     "output_type": "display_data"
    }
   ],
   "source": [
    "def plot_wordcloud(df, label):\n",
    "  condition = 'label=\\\"' + label + '\\\"'\n",
    "#   print(condition)\n",
    "  text = df.filter(condition)\\\n",
    "           .select('text')\\\n",
    "           .rdd.flatMap(lambda x: x)\\\n",
    "           .collect() # list of strings\n",
    "  text = ''.join(str(t) for t in text) # string\n",
    "  \n",
    "  wordcloud = WordCloud(max_font_size=50, \n",
    "                        max_words=100, \n",
    "                        background_color='white').generate(text)\n",
    "\n",
    "  plt.figure(figsize=(10, 6))\n",
    "  plt.imshow(wordcloud, interpolation='bilinear')\n",
    "  plt.axis('off')\n",
    "  plt.title(label, fontsize=15)\n",
    "  plt.show()\n",
    "  \n",
    "  return text"
   ]
  },
  {
   "cell_type": "code",
   "execution_count": 27,
   "metadata": {},
   "outputs": [
    {
     "data": {
      "image/png": "[encoded data removed]"
     },
     "metadata": {},
     "output_type": "display_data"
    }
   ],
   "source": [
    "plot_wordcloud(spam, 'spam')"
   ]
  },
  {
   "cell_type": "code",
   "execution_count": 28,
   "metadata": {},
   "outputs": [
    {
     "data": {
      "image/png": "[encoded data removed]"
     },
     "metadata": {},
     "output_type": "display_data"
    }
   ],
   "source": [
    "plot_wordcloud(spam, 'ham')"
   ]
  },
  {
   "cell_type": "markdown",
   "metadata": {},
   "source": [
    "- Non-spam messages: sentiment words (e.g., love, good, ok, sorry)\n",
    "- Spam messages: ad-related words (e.g., free, call, mobile, claim, txt, text)\n",
    "\n",
    "**Write out word counts for spam as json for other applications**"
   ]
  },
  {
   "cell_type": "code",
   "execution_count": 30,
   "metadata": {},
   "outputs": [
    {
     "data": {
      "text/html": [
       "<style scoped>\n",
       "  .ansiout {\n",
       "    display: block;\n",
       "    unicode-bidi: embed;\n",
       "    white-space: pre-wrap;\n",
       "    word-wrap: break-word;\n",
       "    word-break: break-all;\n",
       "    font-family: \"Source Code Pro\", \"Menlo\", monospace;;\n",
       "    font-size: 13px;\n",
       "    color: #555;\n",
       "    margin-left: 4px;\n",
       "    line-height: 19px;\n",
       "  }\n",
       "</style>\n",
       "<div class=\"ansiout\"></div>"
      ]
     },
     "metadata": {},
     "output_type": "display_data"
    }
   ],
   "source": [
    "def get_word_counts(df, label):\n",
    "  \"\"\"\n",
    "  Output: pd.DataFrame(columns=['word', 'count'])\n",
    "  \"\"\"\n",
    "  df = df.filter(df.label == label)\n",
    "  \n",
    "  tokenizer = Tokenizer(inputCol='text', outputCol='words')\n",
    "  remover = StopWordsRemover(inputCol='words', outputCol='words_filtered')\n",
    "  pipeline = Pipeline(stages=[tokenizer, remover])\n",
    "  pipeline = pipeline.fit(df)\n",
    "  df = pipeline.transform(df)  \n",
    "  \n",
    "  # List of the form [Row(word='t91.', count=1), ...]\n",
    "  word_counts = df.select(explode('words_filtered').alias('word'))\\\n",
    "    .groupBy('word')\\\n",
    "    .count()\n",
    "  \n",
    "  # Write to disk\n",
    "  word_counts.coalesce(1)\\\n",
    "    .write\\\n",
    "    .format('json')\\\n",
    "    .mode('overwrite')\\\n",
    "    .save('dbfs:/FileStore/df/word_counts.json')\n",
    "  \n",
    "  return word_counts"
   ]
  },
  {
   "cell_type": "code",
   "execution_count": 31,
   "metadata": {},
   "outputs": [
    {
     "data": {
      "text/html": [
       "<style scoped>\n",
       "  .ansiout {\n",
       "    display: block;\n",
       "    unicode-bidi: embed;\n",
       "    white-space: pre-wrap;\n",
       "    word-wrap: break-word;\n",
       "    word-break: break-all;\n",
       "    font-family: \"Source Code Pro\", \"Menlo\", monospace;;\n",
       "    font-size: 13px;\n",
       "    color: #555;\n",
       "    margin-left: 4px;\n",
       "    line-height: 19px;\n",
       "  }\n",
       "</style>\n",
       "<div class=\"ansiout\"></div>"
      ]
     },
     "metadata": {},
     "output_type": "display_data"
    }
   ],
   "source": [
    "word_counts = get_word_counts(spam, 'spam')"
   ]
  },
  {
   "cell_type": "code",
   "execution_count": 32,
   "metadata": {},
   "outputs": [
    {
     "data": {
      "text/html": [
       "<style scoped>\n",
       "  .ansiout {\n",
       "    display: block;\n",
       "    unicode-bidi: embed;\n",
       "    white-space: pre-wrap;\n",
       "    word-wrap: break-word;\n",
       "    word-break: break-all;\n",
       "    font-family: \"Source Code Pro\", \"Menlo\", monospace;;\n",
       "    font-size: 13px;\n",
       "    color: #555;\n",
       "    margin-left: 4px;\n",
       "    line-height: 19px;\n",
       "  }\n",
       "</style>\n",
       "<div class=\"ansiout\">+-------+-----+\n",
       "   word|count|\n",
       "+-------+-----+\n",
       "   t91.|    1|\n",
       "6months|    2|\n",
       "  still|    6|\n",
       "+-------+-----+\n",
       "only showing top 3 rows\n",
       "\n",
       "</div>"
      ]
     },
     "metadata": {},
     "output_type": "display_data"
    }
   ],
   "source": [
    "word_counts.show(3)"
   ]
  },
  {
   "cell_type": "code",
   "execution_count": 33,
   "metadata": {},
   "outputs": [
    {
     "data": {
      "text/html": [
       "<style scoped>\n",
       "  .table-result-container {\n",
       "    max-height: 300px;\n",
       "    overflow: auto;\n",
       "  }\n",
       "  table, th, td {\n",
       "    border: 1px solid black;\n",
       "    border-collapse: collapse;\n",
       "  }\n",
       "  th, td {\n",
       "    padding: 5px;\n",
       "  }\n",
       "  th {\n",
       "    text-align: left;\n",
       "  }\n",
       "</style><div class='table-result-container'><table class='table-result'><thead style='background-color: white'><tr><th>path</th><th>name</th><th>size</th></tr></thead><tbody><tr><td>dbfs:/FileStore/df/word_counts.json/_committed_1276376866693458240</td><td>_committed_1276376866693458240</td><td>115</td></tr><tr><td>dbfs:/FileStore/df/word_counts.json/_committed_6404187341664383278</td><td>_committed_6404187341664383278</td><td>216</td></tr><tr><td>dbfs:/FileStore/df/word_counts.json/_committed_7281670467955759113</td><td>_committed_7281670467955759113</td><td>204</td></tr><tr><td>dbfs:/FileStore/df/word_counts.json/_committed_vacuum5413125933093032263</td><td>_committed_vacuum5413125933093032263</td><td>129</td></tr><tr><td>dbfs:/FileStore/df/word_counts.json/_started_7281670467955759113</td><td>_started_7281670467955759113</td><td>0</td></tr><tr><td>dbfs:/FileStore/df/word_counts.json/part-00000-tid-7281670467955759113-7cfba157-a31d-43c7-8bc0-0871ed2538f0-841-1-c000.json</td><td>part-00000-tid-7281670467955759113-7cfba157-a31d-43c7-8bc0-0871ed2538f0-841-1-c000.json</td><td>105922</td></tr></tbody></table></div>"
      ]
     },
     "metadata": {},
     "output_type": "display_data"
    }
   ],
   "source": [
    "%fs ls dbfs:/FileStore/df/word_counts.json"
   ]
  },
  {
   "cell_type": "markdown",
   "metadata": {},
   "source": [
    "[Download](https://community.cloud.databricks.com/files/df/word_counts.json/part-00000-tid-6404187341664383278-34442f38-748f-42fa-8994-ef120bb17d91-5924-1-c000.json?o=6536511415362968)\n",
    "\n",
    "Remove: %fs rm -r /FileStore/df/word_counts.json"
   ]
  },
  {
   "cell_type": "markdown",
   "metadata": {},
   "source": [
    "### Special characters"
   ]
  },
  {
   "cell_type": "code",
   "execution_count": 36,
   "metadata": {},
   "outputs": [
    {
     "data": {
      "text/html": [
       "<style scoped>\n",
       "  .ansiout {\n",
       "    display: block;\n",
       "    unicode-bidi: embed;\n",
       "    white-space: pre-wrap;\n",
       "    word-wrap: break-word;\n",
       "    word-break: break-all;\n",
       "    font-family: \"Source Code Pro\", \"Menlo\", monospace;;\n",
       "    font-size: 13px;\n",
       "    color: #555;\n",
       "    margin-left: 4px;\n",
       "    line-height: 19px;\n",
       "  }\n",
       "</style>\n",
       "<div class=\"ansiout\"></div>"
      ]
     },
     "metadata": {},
     "output_type": "display_data"
    }
   ],
   "source": [
    "def match_text(df, name_to_match):\n",
    "  \"\"\"\n",
    "  Matches text with an RegEx, then counts by labels.\n",
    "  Outputs a derived DataFrame.\n",
    "  \"\"\"\n",
    "  sc_dict = {\n",
    "    'exclamation': '[!]',\n",
    "    'qmark': '[?]',\n",
    "    'punc': '[^\\\\w\\\\s]',\n",
    "    'digit': '[0-9]',\n",
    "    'url': \"\"\"((http|ftp)://(.*)\\\\.([a-z]+)) | (www.*\\\\.([a-z]+))\"\"\"\n",
    "  }\n",
    "  pattern = sc_dict[name_to_match]\n",
    "  df = df.withColumn(name_to_match, when(df.text.rlike(pattern), 1).otherwise(0))\n",
    "  \n",
    "  col_name = name_to_match + '_perc'\n",
    "  df.groupby('label')\\\n",
    "    .agg(((100*sum(name_to_match))/count('*')).alias(col_name))\\\n",
    "    .select('label', bround(col_name, 2).alias(col_name))\\\n",
    "    .show()\n",
    "  \n",
    "  return df"
   ]
  },
  {
   "cell_type": "markdown",
   "metadata": {},
   "source": [
    "#### Exclamation marks"
   ]
  },
  {
   "cell_type": "code",
   "execution_count": 38,
   "metadata": {},
   "outputs": [
    {
     "data": {
      "text/html": [
       "<style scoped>\n",
       "  .ansiout {\n",
       "    display: block;\n",
       "    unicode-bidi: embed;\n",
       "    white-space: pre-wrap;\n",
       "    word-wrap: break-word;\n",
       "    word-break: break-all;\n",
       "    font-family: \"Source Code Pro\", \"Menlo\", monospace;;\n",
       "    font-size: 13px;\n",
       "    color: #555;\n",
       "    margin-left: 4px;\n",
       "    line-height: 19px;\n",
       "  }\n",
       "</style>\n",
       "<div class=\"ansiout\">+-----+----------------+\n",
       "label|exclamation_perc|\n",
       "+-----+----------------+\n",
       "  ham|           11.58|\n",
       " spam|           48.86|\n",
       "+-----+----------------+\n",
       "\n",
       "</div>"
      ]
     },
     "metadata": {},
     "output_type": "display_data"
    }
   ],
   "source": [
    "derived_spam = match_text(spam, 'exclamation')"
   ]
  },
  {
   "cell_type": "markdown",
   "metadata": {},
   "source": [
    "#### Question marks"
   ]
  },
  {
   "cell_type": "code",
   "execution_count": 40,
   "metadata": {},
   "outputs": [
    {
     "data": {
      "text/html": [
       "<style scoped>\n",
       "  .ansiout {\n",
       "    display: block;\n",
       "    unicode-bidi: embed;\n",
       "    white-space: pre-wrap;\n",
       "    word-wrap: break-word;\n",
       "    word-break: break-all;\n",
       "    font-family: \"Source Code Pro\", \"Menlo\", monospace;;\n",
       "    font-size: 13px;\n",
       "    color: #555;\n",
       "    margin-left: 4px;\n",
       "    line-height: 19px;\n",
       "  }\n",
       "</style>\n",
       "<div class=\"ansiout\">+-----+----------+\n",
       "label|qmark_perc|\n",
       "+-----+----------+\n",
       "  ham|     22.46|\n",
       " spam|      17.8|\n",
       "+-----+----------+\n",
       "\n",
       "</div>"
      ]
     },
     "metadata": {},
     "output_type": "display_data"
    }
   ],
   "source": [
    "derived_spam = match_text(derived_spam, 'qmark')"
   ]
  },
  {
   "cell_type": "markdown",
   "metadata": {},
   "source": [
    "#### Punctuations in general"
   ]
  },
  {
   "cell_type": "code",
   "execution_count": 42,
   "metadata": {},
   "outputs": [
    {
     "data": {
      "text/html": [
       "<style scoped>\n",
       "  .ansiout {\n",
       "    display: block;\n",
       "    unicode-bidi: embed;\n",
       "    white-space: pre-wrap;\n",
       "    word-wrap: break-word;\n",
       "    word-break: break-all;\n",
       "    font-family: \"Source Code Pro\", \"Menlo\", monospace;;\n",
       "    font-size: 13px;\n",
       "    color: #555;\n",
       "    margin-left: 4px;\n",
       "    line-height: 19px;\n",
       "  }\n",
       "</style>\n",
       "<div class=\"ansiout\">+-----+---------+\n",
       "label|punc_perc|\n",
       "+-----+---------+\n",
       "  ham|    90.88|\n",
       " spam|    97.46|\n",
       "+-----+---------+\n",
       "\n",
       "</div>"
      ]
     },
     "metadata": {},
     "output_type": "display_data"
    }
   ],
   "source": [
    "derived_spam = match_text(derived_spam, 'punc')"
   ]
  },
  {
   "cell_type": "markdown",
   "metadata": {},
   "source": [
    "Spam messages are more likely to use exclamation marks.\n",
    "\n",
    "There's not much difference in use of question marks and punctuations in general."
   ]
  },
  {
   "cell_type": "markdown",
   "metadata": {},
   "source": [
    "#### Digits"
   ]
  },
  {
   "cell_type": "code",
   "execution_count": 45,
   "metadata": {},
   "outputs": [
    {
     "data": {
      "text/html": [
       "<style scoped>\n",
       "  .ansiout {\n",
       "    display: block;\n",
       "    unicode-bidi: embed;\n",
       "    white-space: pre-wrap;\n",
       "    word-wrap: break-word;\n",
       "    word-break: break-all;\n",
       "    font-family: \"Source Code Pro\", \"Menlo\", monospace;;\n",
       "    font-size: 13px;\n",
       "    color: #555;\n",
       "    margin-left: 4px;\n",
       "    line-height: 19px;\n",
       "  }\n",
       "</style>\n",
       "<div class=\"ansiout\">+-----+----------+\n",
       "label|digit_perc|\n",
       "+-----+----------+\n",
       "  ham|      15.5|\n",
       " spam|     94.78|\n",
       "+-----+----------+\n",
       "\n",
       "</div>"
      ]
     },
     "metadata": {},
     "output_type": "display_data"
    }
   ],
   "source": [
    "derived_spam = match_text(derived_spam, 'digit')"
   ]
  },
  {
   "cell_type": "markdown",
   "metadata": {},
   "source": [
    "Spam messages are more likely to use numbers."
   ]
  },
  {
   "cell_type": "markdown",
   "metadata": {},
   "source": [
    "### URL"
   ]
  },
  {
   "cell_type": "code",
   "execution_count": 48,
   "metadata": {},
   "outputs": [
    {
     "data": {
      "text/html": [
       "<style scoped>\n",
       "  .ansiout {\n",
       "    display: block;\n",
       "    unicode-bidi: embed;\n",
       "    white-space: pre-wrap;\n",
       "    word-wrap: break-word;\n",
       "    word-break: break-all;\n",
       "    font-family: \"Source Code Pro\", \"Menlo\", monospace;;\n",
       "    font-size: 13px;\n",
       "    color: #555;\n",
       "    margin-left: 4px;\n",
       "    line-height: 19px;\n",
       "  }\n",
       "</style>\n",
       "<div class=\"ansiout\">+-----+--------+\n",
       "label|url_perc|\n",
       "+-----+--------+\n",
       "  ham|    0.04|\n",
       " spam|   11.65|\n",
       "+-----+--------+\n",
       "\n",
       "</div>"
      ]
     },
     "metadata": {},
     "output_type": "display_data"
    }
   ],
   "source": [
    "derived_spam = match_text(derived_spam, 'url')"
   ]
  },
  {
   "cell_type": "markdown",
   "metadata": {},
   "source": [
    "Spam messages are more likely to use URLs."
   ]
  },
  {
   "cell_type": "markdown",
   "metadata": {},
   "source": [
    "### Message length"
   ]
  },
  {
   "cell_type": "code",
   "execution_count": 51,
   "metadata": {},
   "outputs": [
    {
     "data": {
      "text/html": [
       "<style scoped>\n",
       "  .ansiout {\n",
       "    display: block;\n",
       "    unicode-bidi: embed;\n",
       "    white-space: pre-wrap;\n",
       "    word-wrap: break-word;\n",
       "    word-break: break-all;\n",
       "    font-family: \"Source Code Pro\", \"Menlo\", monospace;;\n",
       "    font-size: 13px;\n",
       "    color: #555;\n",
       "    margin-left: 4px;\n",
       "    line-height: 19px;\n",
       "  }\n",
       "</style>\n",
       "<div class=\"ansiout\"></div>"
      ]
     },
     "metadata": {},
     "output_type": "display_data"
    }
   ],
   "source": [
    "def get_text_len(df, plot=False):\n",
    "  \"\"\"\n",
    "  Computes statistics and plots for text length\n",
    "  Outputs a derived DataFrame.\n",
    "  \"\"\"\n",
    "  df = df.withColumn('length', length('text'))\n",
    "  \n",
    "  if plot:\n",
    "    length_df = df.select('label', 'length').toPandas()\n",
    "    length_df.hist(column='length', by='label', bins=60, figsize=(10, 5))\n",
    "    plt.suptitle('Message Length by Label')\n",
    "    plt.xlim(0, 900)\n",
    "  else:\n",
    "    df.groupby('label')\\\n",
    "      .agg(min('length'), max('length'), avg('length'))\\\n",
    "      .show()\n",
    "    \n",
    "    return df"
   ]
  },
  {
   "cell_type": "code",
   "execution_count": 52,
   "metadata": {},
   "outputs": [
    {
     "data": {
      "text/html": [
       "<style scoped>\n",
       "  .ansiout {\n",
       "    display: block;\n",
       "    unicode-bidi: embed;\n",
       "    white-space: pre-wrap;\n",
       "    word-wrap: break-word;\n",
       "    word-break: break-all;\n",
       "    font-family: \"Source Code Pro\", \"Menlo\", monospace;;\n",
       "    font-size: 13px;\n",
       "    color: #555;\n",
       "    margin-left: 4px;\n",
       "    line-height: 19px;\n",
       "  }\n",
       "</style>\n",
       "<div class=\"ansiout\">+-----+-----------+-----------+------------------+\n",
       "label|min(length)|max(length)|       avg(length)|\n",
       "+-----+-----------+-----------+------------------+\n",
       "  ham|          2|        910| 71.07065893079155|\n",
       " spam|         13|        223|138.45917001338688|\n",
       "+-----+-----------+-----------+------------------+\n",
       "\n",
       "</div>"
      ]
     },
     "metadata": {},
     "output_type": "display_data"
    }
   ],
   "source": [
    "derived_spam = get_text_len(derived_spam)"
   ]
  },
  {
   "cell_type": "code",
   "execution_count": 53,
   "metadata": {},
   "outputs": [
    {
     "data": {
      "image/png": "[encoded data removed]"
     },
     "metadata": {},
     "output_type": "display_data"
    }
   ],
   "source": [
    "get_text_len(spam, plot=True)"
   ]
  },
  {
   "cell_type": "markdown",
   "metadata": {},
   "source": [
    "Spam messages seem to be longer."
   ]
  },
  {
   "cell_type": "markdown",
   "metadata": {},
   "source": [
    "**Write out the derived dataframe as csv for other applications**"
   ]
  },
  {
   "cell_type": "code",
   "execution_count": 56,
   "metadata": {},
   "outputs": [
    {
     "data": {
      "text/html": [
       "<style scoped>\n",
       "  .ansiout {\n",
       "    display: block;\n",
       "    unicode-bidi: embed;\n",
       "    white-space: pre-wrap;\n",
       "    word-wrap: break-word;\n",
       "    word-break: break-all;\n",
       "    font-family: \"Source Code Pro\", \"Menlo\", monospace;;\n",
       "    font-size: 13px;\n",
       "    color: #555;\n",
       "    margin-left: 4px;\n",
       "    line-height: 19px;\n",
       "  }\n",
       "</style>\n",
       "<div class=\"ansiout\">+-----+--------------------+-----------+-----+----+-----+---+------+\n",
       "label|                text|exclamation|qmark|punc|digit|url|length|\n",
       "+-----+--------------------+-----------+-----+----+-----+---+------+\n",
       "  ham|Go until jurong p...|          0|    0|   1|    0|  0|   111|\n",
       "  ham|Ok lar... Joking ...|          0|    0|   1|    0|  0|    29|\n",
       " spam|Free entry in 2 a...|          0|    0|   1|    1|  0|   155|\n",
       "+-----+--------------------+-----------+-----+----+-----+---+------+\n",
       "only showing top 3 rows\n",
       "\n",
       "</div>"
      ]
     },
     "metadata": {},
     "output_type": "display_data"
    }
   ],
   "source": [
    "derived_spam.show(3)"
   ]
  },
  {
   "cell_type": "code",
   "execution_count": 57,
   "metadata": {},
   "outputs": [
    {
     "data": {
      "text/html": [
       "<style scoped>\n",
       "  .ansiout {\n",
       "    display: block;\n",
       "    unicode-bidi: embed;\n",
       "    white-space: pre-wrap;\n",
       "    word-wrap: break-word;\n",
       "    word-break: break-all;\n",
       "    font-family: \"Source Code Pro\", \"Menlo\", monospace;;\n",
       "    font-size: 13px;\n",
       "    color: #555;\n",
       "    margin-left: 4px;\n",
       "    line-height: 19px;\n",
       "  }\n",
       "</style>\n",
       "<div class=\"ansiout\"></div>"
      ]
     },
     "metadata": {},
     "output_type": "display_data"
    }
   ],
   "source": [
    "derived_spam.coalesce(1)\\\n",
    "  .write\\\n",
    "  .format('json')\\\n",
    "  .mode('overwrite')\\\n",
    "  .save('dbfs:/FileStore/df/spam_cleaned.json')"
   ]
  },
  {
   "cell_type": "code",
   "execution_count": 58,
   "metadata": {},
   "outputs": [
    {
     "data": {
      "text/html": [
       "<style scoped>\n",
       "  .table-result-container {\n",
       "    max-height: 300px;\n",
       "    overflow: auto;\n",
       "  }\n",
       "  table, th, td {\n",
       "    border: 1px solid black;\n",
       "    border-collapse: collapse;\n",
       "  }\n",
       "  th, td {\n",
       "    padding: 5px;\n",
       "  }\n",
       "  th {\n",
       "    text-align: left;\n",
       "  }\n",
       "</style><div class='table-result-container'><table class='table-result'><thead style='background-color: white'><tr><th>path</th><th>name</th><th>size</th></tr></thead><tbody><tr><td>dbfs:/FileStore/df/spam_cleaned.json/_committed_3394230678233133452</td><td>_committed_3394230678233133452</td><td>205</td></tr><tr><td>dbfs:/FileStore/df/spam_cleaned.json/_committed_4902325454171143735</td><td>_committed_4902325454171143735</td><td>205</td></tr><tr><td>dbfs:/FileStore/df/spam_cleaned.json/_committed_7873930883999322603</td><td>_committed_7873930883999322603</td><td>114</td></tr><tr><td>dbfs:/FileStore/df/spam_cleaned.json/_committed_8280171287415659297</td><td>_committed_8280171287415659297</td><td>215</td></tr><tr><td>dbfs:/FileStore/df/spam_cleaned.json/_committed_vacuum7487702243654269444</td><td>_committed_vacuum7487702243654269444</td><td>162</td></tr><tr><td>dbfs:/FileStore/df/spam_cleaned.json/_started_4902325454171143735</td><td>_started_4902325454171143735</td><td>0</td></tr><tr><td>dbfs:/FileStore/df/spam_cleaned.json/part-00000-tid-4902325454171143735-3cf1c9a8-dad6-473c-94e3-44fe2e3f7751-2052-1-c000.json</td><td>part-00000-tid-4902325454171143735-3cf1c9a8-dad6-473c-94e3-44fe2e3f7751-2052-1-c000.json</td><td>958571</td></tr></tbody></table></div>"
      ]
     },
     "metadata": {},
     "output_type": "display_data"
    }
   ],
   "source": [
    "%fs ls dbfs:/FileStore/df/spam_cleaned.json/"
   ]
  },
  {
   "cell_type": "markdown",
   "metadata": {},
   "source": [
    "[Download](https://community.cloud.databricks.com/files/df/spam_cleaned.json/part-00000-tid-3394230678233133452-b0e13a16-d6a4-4206-9769-dbb3b01cd550-4303-1-c000.json?o=6536511415362968)\n",
    "\n",
    "Remove: \n",
    "%fs rm -r /FileStore/df/spam_cleaned.json"
   ]
  },
  {
   "cell_type": "markdown",
   "metadata": {},
   "source": [
    "### Train-test-split"
   ]
  },
  {
   "cell_type": "code",
   "execution_count": 61,
   "metadata": {},
   "outputs": [
    {
     "data": {
      "text/html": [
       "<style scoped>\n",
       "  .ansiout {\n",
       "    display: block;\n",
       "    unicode-bidi: embed;\n",
       "    white-space: pre-wrap;\n",
       "    word-wrap: break-word;\n",
       "    word-break: break-all;\n",
       "    font-family: \"Source Code Pro\", \"Menlo\", monospace;;\n",
       "    font-size: 13px;\n",
       "    color: #555;\n",
       "    margin-left: 4px;\n",
       "    line-height: 19px;\n",
       "  }\n",
       "</style>\n",
       "<div class=\"ansiout\"></div>"
      ]
     },
     "metadata": {},
     "output_type": "display_data"
    }
   ],
   "source": [
    "SEED = 42\n",
    "train, test = spam.randomSplit([0.8, 0.2], seed=SEED)"
   ]
  },
  {
   "cell_type": "code",
   "execution_count": 62,
   "metadata": {},
   "outputs": [
    {
     "data": {
      "text/html": [
       "<style scoped>\n",
       "  .ansiout {\n",
       "    display: block;\n",
       "    unicode-bidi: embed;\n",
       "    white-space: pre-wrap;\n",
       "    word-wrap: break-word;\n",
       "    word-break: break-all;\n",
       "    font-family: \"Source Code Pro\", \"Menlo\", monospace;;\n",
       "    font-size: 13px;\n",
       "    color: #555;\n",
       "    margin-left: 4px;\n",
       "    line-height: 19px;\n",
       "  }\n",
       "</style>\n",
       "<div class=\"ansiout\">Out[34]: (4502, 1071)</div>"
      ]
     },
     "metadata": {},
     "output_type": "display_data"
    }
   ],
   "source": [
    "train.count(), test.count()"
   ]
  },
  {
   "cell_type": "code",
   "execution_count": 63,
   "metadata": {},
   "outputs": [
    {
     "data": {
      "text/html": [
       "<style scoped>\n",
       "  .ansiout {\n",
       "    display: block;\n",
       "    unicode-bidi: embed;\n",
       "    white-space: pre-wrap;\n",
       "    word-wrap: break-word;\n",
       "    word-break: break-all;\n",
       "    font-family: \"Source Code Pro\", \"Menlo\", monospace;;\n",
       "    font-size: 13px;\n",
       "    color: #555;\n",
       "    margin-left: 4px;\n",
       "    line-height: 19px;\n",
       "  }\n",
       "</style>\n",
       "<div class=\"ansiout\">+-----+-----+\n",
       "label|count|\n",
       "+-----+-----+\n",
       "  ham| 3903|\n",
       " spam|  599|\n",
       "+-----+-----+\n",
       "\n",
       "</div>"
      ]
     },
     "metadata": {},
     "output_type": "display_data"
    }
   ],
   "source": [
    "train.groupby('label').count().show()"
   ]
  },
  {
   "cell_type": "code",
   "execution_count": 64,
   "metadata": {},
   "outputs": [
    {
     "data": {
      "text/html": [
       "<style scoped>\n",
       "  .ansiout {\n",
       "    display: block;\n",
       "    unicode-bidi: embed;\n",
       "    white-space: pre-wrap;\n",
       "    word-wrap: break-word;\n",
       "    word-break: break-all;\n",
       "    font-family: \"Source Code Pro\", \"Menlo\", monospace;;\n",
       "    font-size: 13px;\n",
       "    color: #555;\n",
       "    margin-left: 4px;\n",
       "    line-height: 19px;\n",
       "  }\n",
       "</style>\n",
       "<div class=\"ansiout\">+-----+-----+\n",
       "label|count|\n",
       "+-----+-----+\n",
       "  ham|  923|\n",
       " spam|  148|\n",
       "+-----+-----+\n",
       "\n",
       "</div>"
      ]
     },
     "metadata": {},
     "output_type": "display_data"
    }
   ],
   "source": [
    "test.groupby('label').count().show()"
   ]
  },
  {
   "cell_type": "markdown",
   "metadata": {},
   "source": [
    "### More text preprocessing\n",
    "- Message text\n",
    "  - Tokenization\n",
    "  - Removal of stopwords\n",
    "  - Stemmatization\n",
    "  - Vectorization (CountVectorizer, HashingTF)\n",
    "  - TF-IDF weighting\n",
    "- Label\n",
    "  - Map to numerical indices\n",
    "  \n",
    "The preprocessing steps will be integrated in the model pipeline and tuned."
   ]
  },
  {
   "cell_type": "markdown",
   "metadata": {},
   "source": [
    "## 3. Model"
   ]
  },
  {
   "cell_type": "markdown",
   "metadata": {},
   "source": [
    "### Custom Transformer\n",
    "#### 1. TextFilter"
   ]
  },
  {
   "cell_type": "code",
   "execution_count": 68,
   "metadata": {},
   "outputs": [
    {
     "data": {
      "text/html": [
       "<style scoped>\n",
       "  .ansiout {\n",
       "    display: block;\n",
       "    unicode-bidi: embed;\n",
       "    white-space: pre-wrap;\n",
       "    word-wrap: break-word;\n",
       "    word-break: break-all;\n",
       "    font-family: \"Source Code Pro\", \"Menlo\", monospace;;\n",
       "    font-size: 13px;\n",
       "    color: #555;\n",
       "    margin-left: 4px;\n",
       "    line-height: 19px;\n",
       "  }\n",
       "</style>\n",
       "<div class=\"ansiout\"></div>"
      ]
     },
     "metadata": {},
     "output_type": "display_data"
    }
   ],
   "source": [
    "class TextFilter(Transformer):\n",
    "    \"\"\"\n",
    "    A custom Transformer that removes special characters and digits in the text\n",
    "    \"\"\"\n",
    "\n",
    "    def __init__(self, inputCol, outputCol):\n",
    "        super(TextFilter, self).__init__()\n",
    "        self.inputCol = inputCol\n",
    "        self.outputCol = outputCol\n",
    "\n",
    "    def _transform(self, df: DataFrame) -> DataFrame:\n",
    "      # Remove punctuations -> digits -> extra spaces between words \n",
    "      # (so that tokenization will not include whitespace character)\n",
    "      df = df.withColumn(self.outputCol, regexp_replace(self.inputCol, '[^\\\\w\\\\s]', ' '))\\\n",
    "              .withColumn(self.outputCol, regexp_replace(self.outputCol, '[\\\\d+]', ' '))\\\n",
    "              .withColumn(self.outputCol, regexp_replace(self.outputCol, '\\\\s+', ' '))\n",
    "      \n",
    "      return df"
   ]
  },
  {
   "cell_type": "markdown",
   "metadata": {},
   "source": [
    "#### 2.1 Stemmer"
   ]
  },
  {
   "cell_type": "code",
   "execution_count": 70,
   "metadata": {},
   "outputs": [
    {
     "data": {
      "text/html": [
       "<style scoped>\n",
       "  .ansiout {\n",
       "    display: block;\n",
       "    unicode-bidi: embed;\n",
       "    white-space: pre-wrap;\n",
       "    word-wrap: break-word;\n",
       "    word-break: break-all;\n",
       "    font-family: \"Source Code Pro\", \"Menlo\", monospace;;\n",
       "    font-size: 13px;\n",
       "    color: #555;\n",
       "    margin-left: 4px;\n",
       "    line-height: 19px;\n",
       "  }\n",
       "</style>\n",
       "<div class=\"ansiout\"></div>"
      ]
     },
     "metadata": {},
     "output_type": "display_data"
    }
   ],
   "source": [
    "class Stemmer(Transformer):\n",
    "    \"\"\"\n",
    "    A custom Transformer that performs stemmatization using SnowballStemmer from NLTK\n",
    "    \"\"\"\n",
    "\n",
    "    def __init__(self, inputCol, outputCol):\n",
    "        super(Stemmer, self).__init__()\n",
    "        self.inputCol = inputCol\n",
    "        self.outputCol = outputCol\n",
    "        self.stemmer = SnowballStemmer(language='english')\n",
    "        self.stemmer_udf = udf(lambda tokens: [self.stemmer.stem(t) for t in tokens], ArrayType(StringType()))\n",
    "\n",
    "    def _transform(self, df: DataFrame) -> DataFrame:\n",
    "      df = df.withColumn(self.outputCol, self.stemmer_udf(self.inputCol))\n",
    "      return df"
   ]
  },
  {
   "cell_type": "markdown",
   "metadata": {},
   "source": [
    "#### 2.2 Lemmatizer"
   ]
  },
  {
   "cell_type": "code",
   "execution_count": 72,
   "metadata": {},
   "outputs": [
    {
     "data": {
      "text/html": [
       "<style scoped>\n",
       "  .ansiout {\n",
       "    display: block;\n",
       "    unicode-bidi: embed;\n",
       "    white-space: pre-wrap;\n",
       "    word-wrap: break-word;\n",
       "    word-break: break-all;\n",
       "    font-family: \"Source Code Pro\", \"Menlo\", monospace;;\n",
       "    font-size: 13px;\n",
       "    color: #555;\n",
       "    margin-left: 4px;\n",
       "    line-height: 19px;\n",
       "  }\n",
       "</style>\n",
       "<div class=\"ansiout\"></div>"
      ]
     },
     "metadata": {},
     "output_type": "display_data"
    }
   ],
   "source": [
    "class Lemmatizer(Transformer):\n",
    "    \"\"\"\n",
    "    A custom Transformer that performs lemmatization using WordNetLemmatizer from NLTK\n",
    "    \"\"\"\n",
    "\n",
    "    def __init__(self, inputCol, outputCol):\n",
    "        super(Lemmatizer, self).__init__()\n",
    "        self.inputCol = inputCol\n",
    "        self.outputCol = outputCol\n",
    "        self.lemmatizer = WordNetLemmatizer()\n",
    "        self.lemmatizer_udf = udf(lambda tokens: [self.lemmatizer.lemmatize(t) for t in tokens], ArrayType(StringType()))\n",
    "\n",
    "    def _transform(self, df: DataFrame) -> DataFrame:\n",
    "      df = df.withColumn(self.outputCol, self.lemmatizer_udf(self.inputCol))\n",
    "      return df"
   ]
  },
  {
   "cell_type": "markdown",
   "metadata": {},
   "source": [
    "#### Testing"
   ]
  },
  {
   "cell_type": "code",
   "execution_count": 74,
   "metadata": {},
   "outputs": [
    {
     "data": {
      "text/html": [
       "<style scoped>\n",
       "  .ansiout {\n",
       "    display: block;\n",
       "    unicode-bidi: embed;\n",
       "    white-space: pre-wrap;\n",
       "    word-wrap: break-word;\n",
       "    word-break: break-all;\n",
       "    font-family: \"Source Code Pro\", \"Menlo\", monospace;;\n",
       "    font-size: 13px;\n",
       "    color: #555;\n",
       "    margin-left: 4px;\n",
       "    line-height: 19px;\n",
       "  }\n",
       "</style>\n",
       "<div class=\"ansiout\"></div>"
      ]
     },
     "metadata": {},
     "output_type": "display_data"
    }
   ],
   "source": [
    "def test_transformer(df):\n",
    "  \"\"\"\n",
    "  Checks if the transformers work as expected.\n",
    "  \"\"\"\n",
    "  tfilter = TextFilter(inputCol='text', outputCol='text_cleaned')\n",
    "  test_df = tfilter.transform(df)\n",
    "  tokenizer = Tokenizer(inputCol='text_cleaned', outputCol='words')\n",
    "  test_df = tokenizer.transform(test_df)\n",
    "  stemmer = Stemmer(inputCol='words', outputCol='words_stemmed')\n",
    "  test_df = stemmer.transform(test_df)\n",
    "  lemmatizer = Lemmatizer(inputCol='words', outputCol='words_lammatized')\n",
    "  test_df = lemmatizer.transform(test_df)\n",
    "  \n",
    "  return test_df"
   ]
  },
  {
   "cell_type": "code",
   "execution_count": 75,
   "metadata": {},
   "outputs": [
    {
     "data": {
      "text/html": [
       "<style scoped>\n",
       "  .ansiout {\n",
       "    display: block;\n",
       "    unicode-bidi: embed;\n",
       "    white-space: pre-wrap;\n",
       "    word-wrap: break-word;\n",
       "    word-break: break-all;\n",
       "    font-family: \"Source Code Pro\", \"Menlo\", monospace;;\n",
       "    font-size: 13px;\n",
       "    color: #555;\n",
       "    margin-left: 4px;\n",
       "    line-height: 19px;\n",
       "  }\n",
       "</style>\n",
       "<div class=\"ansiout\"></div>"
      ]
     },
     "metadata": {},
     "output_type": "display_data"
    }
   ],
   "source": [
    "test_df = test_transformer(spam)"
   ]
  },
  {
   "cell_type": "code",
   "execution_count": 76,
   "metadata": {},
   "outputs": [
    {
     "data": {
      "text/html": [
       "<style scoped>\n",
       "  .ansiout {\n",
       "    display: block;\n",
       "    unicode-bidi: embed;\n",
       "    white-space: pre-wrap;\n",
       "    word-wrap: break-word;\n",
       "    word-break: break-all;\n",
       "    font-family: \"Source Code Pro\", \"Menlo\", monospace;;\n",
       "    font-size: 13px;\n",
       "    color: #555;\n",
       "    margin-left: 4px;\n",
       "    line-height: 19px;\n",
       "  }\n",
       "</style>\n",
       "<div class=\"ansiout\">+-----------------------------------------------------------------------------------------------------------------------------------------------------------+------------------------------------------------------------------------------------------------------------------------------+------------------------------------------------------------------------------------------------------------------------------------------------------------+-------------------------------------------------------------------------------------------------------------------------------------------------------------+\n",
       "text                                                                                                                                                       |text_cleaned                                                                                                                  |words_stemmed                                                                                                                                               |words_lammatized                                                                                                                                             |\n",
       "+-----------------------------------------------------------------------------------------------------------------------------------------------------------+------------------------------------------------------------------------------------------------------------------------------+------------------------------------------------------------------------------------------------------------------------------------------------------------+-------------------------------------------------------------------------------------------------------------------------------------------------------------+\n",
       "Free entry in 2 a wkly comp to win FA Cup final tkts 21st May 2005. Text FA to 87121 to receive entry question(std txt rate)T&amp;C&#39;s apply 08452810075over18&#39;s|Free entry in a wkly comp to win FA Cup final tkts st May Text FA to to receive entry question std txt rate T C s apply over s|[free, entri, in, a, wkli, comp, to, win, fa, cup, final, tkts, st, may, text, fa, to, to, receiv, entri, question, std, txt, rate, t, c, s, appli, over, s]|[free, entry, in, a, wkly, comp, to, win, fa, cup, final, tkts, st, may, text, fa, to, to, receive, entry, question, std, txt, rate, t, c, s, apply, over, s]|\n",
       "+-----------------------------------------------------------------------------------------------------------------------------------------------------------+------------------------------------------------------------------------------------------------------------------------------+------------------------------------------------------------------------------------------------------------------------------------------------------------+-------------------------------------------------------------------------------------------------------------------------------------------------------------+\n",
       "only showing top 1 row\n",
       "\n",
       "</div>"
      ]
     },
     "metadata": {},
     "output_type": "display_data"
    }
   ],
   "source": [
    "test_df.filter('label = \"spam\"')\\\n",
    "  .select('text', 'text_cleaned', 'words_stemmed', 'words_lammatized')\\\n",
    "  .show(1, truncate=False)"
   ]
  },
  {
   "cell_type": "markdown",
   "metadata": {},
   "source": [
    "Transformers work as expected. We will integrate the transformers into the model pipeline.\n",
    "\n",
    "*Note: Stemmer vs. Lemmatizer*\n",
    "- Both increase recall, with lemmatization giving up some of that recall to increase precision.\n",
    "- Stemmer is faster\n",
    "- Lemmatizer returns actual words\n",
    "\n",
    "For our task, **precision** is a priority, as users don’t want to miss important messages and therefore decreasing FP is priority. \n",
    "\n",
    "Therefore, we will use lemmatizer to get the word roots."
   ]
  },
  {
   "cell_type": "markdown",
   "metadata": {},
   "source": [
    "### Pipeline"
   ]
  },
  {
   "cell_type": "code",
   "execution_count": 79,
   "metadata": {},
   "outputs": [
    {
     "data": {
      "text/html": [
       "<style scoped>\n",
       "  .ansiout {\n",
       "    display: block;\n",
       "    unicode-bidi: embed;\n",
       "    white-space: pre-wrap;\n",
       "    word-wrap: break-word;\n",
       "    word-break: break-all;\n",
       "    font-family: \"Source Code Pro\", \"Menlo\", monospace;;\n",
       "    font-size: 13px;\n",
       "    color: #555;\n",
       "    margin-left: 4px;\n",
       "    line-height: 19px;\n",
       "  }\n",
       "</style>\n",
       "<div class=\"ansiout\"></div>"
      ]
     },
     "metadata": {},
     "output_type": "display_data"
    }
   ],
   "source": [
    "def fit_model(model_name, train=train, test=test, \n",
    "              preprocess_all=True, use_tfidf=False, \n",
    "              metric='accuracy',\n",
    "              tuning=False, num_folds=5, \n",
    "              results=None, return_fitted=False):\n",
    "  \"\"\"\n",
    "  Trains and tunes a model pipeline.\n",
    "  @preprocess_all: whether all preprocessing steps are carried out (Bool). \n",
    "                   For baseline: no TextFilter, StopWordsRemover, Lemmatizer\n",
    "  @use_tfidf: whether TF-IDF is used for vectorization (Bool)\n",
    "  @metric: metric used for evaluation (Str), e.g., accuracy, f1\n",
    "  @tuning: whether the model will be tuned (Bool)\n",
    "  @num_folds: CV fold (Int)\n",
    "  @results: test results (pd.DataFrame)\n",
    "  @return_fitted: whether the fitted model (and predictions) will be returned (Bool)\n",
    "  \"\"\"\n",
    "  \n",
    "  # Instantiate models\n",
    "  label_col, features_col = 'label_index', 'features'\n",
    "  model_dict = {\n",
    "    'lr': LogisticRegression(labelCol=label_col, featuresCol=features_col),\n",
    "    'nb': NaiveBayes(labelCol=label_col, featuresCol=features_col),\n",
    "    'svm': LinearSVC(labelCol=label_col, featuresCol=features_col),\n",
    "    'dt': DecisionTreeClassifier(labelCol=label_col, featuresCol=features_col, seed=SEED),\n",
    "    'rf': RandomForestClassifier(labelCol=label_col, featuresCol=features_col, seed=SEED),\n",
    "    'gbt': GBTClassifier(labelCol=label_col, featuresCol=features_col, seed=SEED)\n",
    "  }\n",
    "  model = model_dict[model_name]\n",
    "  model_name = model.__class__.__name__ # Substitute for full name for display\n",
    "  \n",
    "  # Text preprocessing\n",
    "  label_indexer = StringIndexer(inputCol='label',outputCol='label_index')\n",
    "  \n",
    "  if not preprocess_all:\n",
    "    tokenizer = Tokenizer(inputCol='text', outputCol='words_cleaned')\n",
    "  else:\n",
    "    tfilter = TextFilter(inputCol='text', outputCol='text_cleaned')\n",
    "    tokenizer = Tokenizer(inputCol='text_cleaned', outputCol='words')\n",
    "    remover = StopWordsRemover(inputCol='words', outputCol='words_filtered')\n",
    "    lemmatizer = Lemmatizer(inputCol='words_filtered', outputCol='words_cleaned')\n",
    "  \n",
    "  if use_tfidf:\n",
    "    hashingTF = HashingTF(inputCol='words_cleaned', outputCol='tf', \n",
    "                          numFeatures=1000)\n",
    "    idf = IDF(inputCol='tf', outputCol='features')\n",
    "    if not preprocess_all: # Baseline\n",
    "      stages = [tokenizer, hashingTF, idf, \n",
    "                label_indexer, model]\n",
    "    else:\n",
    "      stages = [tfilter, tokenizer, remover, lemmatizer, hashingTF, idf, \n",
    "                label_indexer, model]\n",
    "  else: # Countvectorizer\n",
    "    cv = CountVectorizer(inputCol='words_cleaned', outputCol='features', \n",
    "                         vocabSize=1000)\n",
    "    if not preprocess_all:\n",
    "      stages = [tokenizer, cv,\n",
    "                label_indexer, model]\n",
    "    else:\n",
    "      stages = [tfilter, tokenizer, remover, lemmatizer, cv, \n",
    "                label_indexer, model]\n",
    "  \n",
    "  pipeline = Pipeline(stages=stages)\n",
    "  \n",
    "  evaluator = MulticlassClassificationEvaluator(labelCol='label_index', \n",
    "                                                predictionCol='prediction',\n",
    "                                                metricName=metric)\n",
    "  \"\"\"\n",
    "  Remark on evaluator: though we have a binary classification problem,\n",
    "  we use MulticlassClassificationEvaluator for it offers a broader range \n",
    "  of options for metrics.\n",
    "  \"\"\"\n",
    "  \n",
    "  # Tuning hyperparameters (for NB/SVM)\n",
    "  if not tuning:\n",
    "    pipeline = pipeline.fit(train)\n",
    "    predictions = pipeline.transform(test)\n",
    "  else:\n",
    "    # Create parameter grid\n",
    "    if use_tfidf:\n",
    "      param_grid = ParamGridBuilder()\\\n",
    "        .addGrid(hashingTF.numFeatures, [1000, 5000])\\\n",
    "        .addGrid(idf.minDocFreq, [2, 4])\n",
    "    else:\n",
    "      param_grid = ParamGridBuilder()\\\n",
    "        .addGrid(cv.vocabSize, [1000, 5000])\\\n",
    "        .addGrid(cv.minDF, [2, 4])\n",
    "    if model_name == 'svm':\n",
    "      param_grid = param_grid\\\n",
    "        .addGrid(model.regParam, [0.0, 0.5, 1.0])\\\n",
    "        .addGrid(model.maxIter, [100, 200])\n",
    "    if model_name == 'nb':\n",
    "      param_grid = param_grid\\\n",
    "        .addGrid(model.smoothing, [0.5, 1.0, 1.5])\n",
    "    \n",
    "    param_grid = param_grid.build()\n",
    "    \n",
    "    pipeline = CrossValidator(estimator=pipeline,\n",
    "                              estimatorParamMaps=param_grid,\n",
    "                              evaluator=evaluator,\n",
    "                              numFolds=num_folds,\n",
    "                              parallelism=2) \n",
    "    pipeline = pipeline.fit(train)\n",
    "    predictions = pipeline.bestModel.transform(test)\n",
    "  \n",
    "  # Evaluation\n",
    "  score = evaluator.evaluate(predictions)\n",
    "  print(f'Test set {metric} for {model_name}: {100*score:.2f}')\n",
    "  \n",
    "  res = pd.DataFrame([[model_name, preprocess_all, tuning, score]], \n",
    "                     columns=['classifier', 'preprocess_all', 'tuning', 'test_score'])\n",
    "  \n",
    "  if results is None:\n",
    "    results = pd.DataFrame(columns=['classifier', 'preprocess_all', 'tuning', 'test_score'])\n",
    "  \n",
    "  final_results = pd.concat([results, res])\n",
    "  \n",
    "  if return_fitted:\n",
    "    return pipeline, predictions, final_results\n",
    "  else:\n",
    "    return final_results"
   ]
  },
  {
   "cell_type": "markdown",
   "metadata": {},
   "source": [
    "### Baseline: Logistic Regression (with minimum preprocessing)"
   ]
  },
  {
   "cell_type": "code",
   "execution_count": 81,
   "metadata": {},
   "outputs": [
    {
     "data": {
      "text/html": [
       "<style scoped>\n",
       "  .ansiout {\n",
       "    display: block;\n",
       "    unicode-bidi: embed;\n",
       "    white-space: pre-wrap;\n",
       "    word-wrap: break-word;\n",
       "    word-break: break-all;\n",
       "    font-family: \"Source Code Pro\", \"Menlo\", monospace;;\n",
       "    font-size: 13px;\n",
       "    color: #555;\n",
       "    margin-left: 4px;\n",
       "    line-height: 19px;\n",
       "  }\n",
       "</style>\n",
       "<div class=\"ansiout\">Test set accuracy for LogisticRegression: 95.24\n",
       "</div>"
      ]
     },
     "metadata": {},
     "output_type": "display_data"
    }
   ],
   "source": [
    "model_results = fit_model('lr', preprocess_all=False)"
   ]
  },
  {
   "cell_type": "markdown",
   "metadata": {},
   "source": [
    "### Naive Bayes"
   ]
  },
  {
   "cell_type": "code",
   "execution_count": 83,
   "metadata": {},
   "outputs": [
    {
     "data": {
      "text/html": [
       "<style scoped>\n",
       "  .ansiout {\n",
       "    display: block;\n",
       "    unicode-bidi: embed;\n",
       "    white-space: pre-wrap;\n",
       "    word-wrap: break-word;\n",
       "    word-break: break-all;\n",
       "    font-family: \"Source Code Pro\", \"Menlo\", monospace;;\n",
       "    font-size: 13px;\n",
       "    color: #555;\n",
       "    margin-left: 4px;\n",
       "    line-height: 19px;\n",
       "  }\n",
       "</style>\n",
       "<div class=\"ansiout\">Test set accuracy for NaiveBayes: 98.13\n",
       "</div>"
      ]
     },
     "metadata": {},
     "output_type": "display_data"
    }
   ],
   "source": [
    "model_results = fit_model('nb', results=model_results)"
   ]
  },
  {
   "cell_type": "code",
   "execution_count": 84,
   "metadata": {},
   "outputs": [
    {
     "data": {
      "text/html": [
       "<style scoped>\n",
       "  .ansiout {\n",
       "    display: block;\n",
       "    unicode-bidi: embed;\n",
       "    white-space: pre-wrap;\n",
       "    word-wrap: break-word;\n",
       "    word-break: break-all;\n",
       "    font-family: \"Source Code Pro\", \"Menlo\", monospace;;\n",
       "    font-size: 13px;\n",
       "    color: #555;\n",
       "    margin-left: 4px;\n",
       "    line-height: 19px;\n",
       "  }\n",
       "</style>\n",
       "<div class=\"ansiout\">Test set accuracy for NaiveBayes: 93.37\n",
       "</div>"
      ]
     },
     "metadata": {},
     "output_type": "display_data"
    }
   ],
   "source": [
    "_ = fit_model('nb', use_tfidf=True)"
   ]
  },
  {
   "cell_type": "markdown",
   "metadata": {},
   "source": [
    "*Remark on vectorizer:*\n",
    "- HashingTF is more efficient, but irreversible. \n",
    "- Hashed input can be harder to interpret and monitor.\n",
    "- We will use CountVectorizer as it stores vocabulary, which can be useful when determining words that are likely to be in spams."
   ]
  },
  {
   "cell_type": "markdown",
   "metadata": {},
   "source": [
    "### SVM"
   ]
  },
  {
   "cell_type": "code",
   "execution_count": 87,
   "metadata": {},
   "outputs": [
    {
     "data": {
      "text/html": [
       "<style scoped>\n",
       "  .ansiout {\n",
       "    display: block;\n",
       "    unicode-bidi: embed;\n",
       "    white-space: pre-wrap;\n",
       "    word-wrap: break-word;\n",
       "    word-break: break-all;\n",
       "    font-family: \"Source Code Pro\", \"Menlo\", monospace;;\n",
       "    font-size: 13px;\n",
       "    color: #555;\n",
       "    margin-left: 4px;\n",
       "    line-height: 19px;\n",
       "  }\n",
       "</style>\n",
       "<div class=\"ansiout\">Test set accuracy for LinearSVC: 98.60\n",
       "</div>"
      ]
     },
     "metadata": {},
     "output_type": "display_data"
    }
   ],
   "source": [
    "model_results = fit_model('svm', results=model_results)"
   ]
  },
  {
   "cell_type": "markdown",
   "metadata": {},
   "source": [
    "### Decision Tree"
   ]
  },
  {
   "cell_type": "code",
   "execution_count": 89,
   "metadata": {},
   "outputs": [
    {
     "data": {
      "text/html": [
       "<style scoped>\n",
       "  .ansiout {\n",
       "    display: block;\n",
       "    unicode-bidi: embed;\n",
       "    white-space: pre-wrap;\n",
       "    word-wrap: break-word;\n",
       "    word-break: break-all;\n",
       "    font-family: \"Source Code Pro\", \"Menlo\", monospace;;\n",
       "    font-size: 13px;\n",
       "    color: #555;\n",
       "    margin-left: 4px;\n",
       "    line-height: 19px;\n",
       "  }\n",
       "</style>\n",
       "<div class=\"ansiout\">Test set accuracy for DecisionTreeClassifier: 93.84\n",
       "</div>"
      ]
     },
     "metadata": {},
     "output_type": "display_data"
    }
   ],
   "source": [
    "model_results = fit_model('dt', results=model_results)"
   ]
  },
  {
   "cell_type": "markdown",
   "metadata": {},
   "source": [
    "### Random Forest"
   ]
  },
  {
   "cell_type": "code",
   "execution_count": 91,
   "metadata": {},
   "outputs": [
    {
     "data": {
      "text/html": [
       "<style scoped>\n",
       "  .ansiout {\n",
       "    display: block;\n",
       "    unicode-bidi: embed;\n",
       "    white-space: pre-wrap;\n",
       "    word-wrap: break-word;\n",
       "    word-break: break-all;\n",
       "    font-family: \"Source Code Pro\", \"Menlo\", monospace;;\n",
       "    font-size: 13px;\n",
       "    color: #555;\n",
       "    margin-left: 4px;\n",
       "    line-height: 19px;\n",
       "  }\n",
       "</style>\n",
       "<div class=\"ansiout\">Test set accuracy for RandomForestClassifier: 89.08\n",
       "</div>"
      ]
     },
     "metadata": {},
     "output_type": "display_data"
    }
   ],
   "source": [
    "model_results = fit_model('rf', results=model_results)"
   ]
  },
  {
   "cell_type": "markdown",
   "metadata": {},
   "source": [
    "### Gradient-boosted Tree"
   ]
  },
  {
   "cell_type": "code",
   "execution_count": 93,
   "metadata": {},
   "outputs": [
    {
     "data": {
      "text/html": [
       "<style scoped>\n",
       "  .ansiout {\n",
       "    display: block;\n",
       "    unicode-bidi: embed;\n",
       "    white-space: pre-wrap;\n",
       "    word-wrap: break-word;\n",
       "    word-break: break-all;\n",
       "    font-family: \"Source Code Pro\", \"Menlo\", monospace;;\n",
       "    font-size: 13px;\n",
       "    color: #555;\n",
       "    margin-left: 4px;\n",
       "    line-height: 19px;\n",
       "  }\n",
       "</style>\n",
       "<div class=\"ansiout\">Test set accuracy for GBTClassifier: 96.17\n",
       "</div>"
      ]
     },
     "metadata": {},
     "output_type": "display_data"
    }
   ],
   "source": [
    "model_results = fit_model('gbt', results=model_results)"
   ]
  },
  {
   "cell_type": "code",
   "execution_count": 94,
   "metadata": {},
   "outputs": [
    {
     "data": {
      "text/html": [
       "<div>\n",
       "<style scoped>\n",
       "    .dataframe tbody tr th:only-of-type {\n",
       "        vertical-align: middle;\n",
       "    }\n",
       "\n",
       "    .dataframe tbody tr th {\n",
       "        vertical-align: top;\n",
       "    }\n",
       "\n",
       "    .dataframe thead th {\n",
       "        text-align: right;\n",
       "    }\n",
       "</style>\n",
       "<table border=\"1\" class=\"dataframe\">\n",
       "  <thead>\n",
       "    <tr style=\"text-align: right;\">\n",
       "      <th></th>\n",
       "      <th>classifier</th>\n",
       "      <th>preprocess_all</th>\n",
       "      <th>tuning</th>\n",
       "      <th>test_score</th>\n",
       "    </tr>\n",
       "  </thead>\n",
       "  <tbody>\n",
       "    <tr>\n",
       "      <th>0</th>\n",
       "      <td>LinearSVC</td>\n",
       "      <td>True</td>\n",
       "      <td>False</td>\n",
       "      <td>0.985994</td>\n",
       "    </tr>\n",
       "    <tr>\n",
       "      <th>0</th>\n",
       "      <td>NaiveBayes</td>\n",
       "      <td>True</td>\n",
       "      <td>False</td>\n",
       "      <td>0.981326</td>\n",
       "    </tr>\n",
       "    <tr>\n",
       "      <th>0</th>\n",
       "      <td>GBTClassifier</td>\n",
       "      <td>True</td>\n",
       "      <td>False</td>\n",
       "      <td>0.961718</td>\n",
       "    </tr>\n",
       "    <tr>\n",
       "      <th>0</th>\n",
       "      <td>LogisticRegression</td>\n",
       "      <td>False</td>\n",
       "      <td>False</td>\n",
       "      <td>0.952381</td>\n",
       "    </tr>\n",
       "    <tr>\n",
       "      <th>0</th>\n",
       "      <td>DecisionTreeClassifier</td>\n",
       "      <td>True</td>\n",
       "      <td>False</td>\n",
       "      <td>0.938375</td>\n",
       "    </tr>\n",
       "    <tr>\n",
       "      <th>0</th>\n",
       "      <td>RandomForestClassifier</td>\n",
       "      <td>True</td>\n",
       "      <td>False</td>\n",
       "      <td>0.890756</td>\n",
       "    </tr>\n",
       "  </tbody>\n",
       "</table>\n",
       "</div>"
      ]
     },
     "metadata": {},
     "output_type": "display_data"
    }
   ],
   "source": [
    "model_results.sort_values(by='test_score', ascending=False)"
   ]
  },
  {
   "cell_type": "markdown",
   "metadata": {},
   "source": [
    "SVM and Naive Bayes have better performances and are more efficient in terms of runtime. \n",
    "\n",
    "Indeed, these are among the most popular classifiers for spam detection.\n",
    "\n",
    "Tree-based models have poorer performances than the baseline, which might be attributed to overfitting."
   ]
  },
  {
   "cell_type": "markdown",
   "metadata": {},
   "source": [
    "### Tuning"
   ]
  },
  {
   "cell_type": "code",
   "execution_count": 97,
   "metadata": {},
   "outputs": [
    {
     "data": {
      "text/html": [
       "<style scoped>\n",
       "  .ansiout {\n",
       "    display: block;\n",
       "    unicode-bidi: embed;\n",
       "    white-space: pre-wrap;\n",
       "    word-wrap: break-word;\n",
       "    word-break: break-all;\n",
       "    font-family: \"Source Code Pro\", \"Menlo\", monospace;;\n",
       "    font-size: 13px;\n",
       "    color: #555;\n",
       "    margin-left: 4px;\n",
       "    line-height: 19px;\n",
       "  }\n",
       "</style>\n",
       "<div class=\"ansiout\"></div>"
      ]
     },
     "metadata": {},
     "output_type": "display_data"
    }
   ],
   "source": [
    "def get_best_params(cv_results):\n",
    "  \"\"\"\n",
    "  Prints the best parameter setting from a cross-validated model.\n",
    "  \"\"\"\n",
    "  print('Best parameter setting:')\n",
    "  stages = cv_results.bestModel.stages\n",
    "  for s in stages:\n",
    "    if isinstance(s, CountVectorizerModel):\n",
    "      print(f'CountVectorizer: vocabSize={s.getVocabSize()}')\n",
    "      print(f'CountVectorizer: minDF={s.getMinDF()}')\n",
    "    if isinstance(s, NaiveBayesModel):\n",
    "      print(f'NaiveBayesModel: Smoothing={s.getSmoothing()}')\n",
    "    if isinstance(s, LinearSVCModel):\n",
    "      print(f'LinearSVCModel: RegParam={s.getRegParam()}')\n",
    "      print(f'LinearSVCModel: MaxIter={s.getMaxIter()}')"
   ]
  },
  {
   "cell_type": "markdown",
   "metadata": {},
   "source": [
    "#### SVM"
   ]
  },
  {
   "cell_type": "code",
   "execution_count": 99,
   "metadata": {},
   "outputs": [
    {
     "data": {
      "text/html": [
       "<style scoped>\n",
       "  .ansiout {\n",
       "    display: block;\n",
       "    unicode-bidi: embed;\n",
       "    white-space: pre-wrap;\n",
       "    word-wrap: break-word;\n",
       "    word-break: break-all;\n",
       "    font-family: \"Source Code Pro\", \"Menlo\", monospace;;\n",
       "    font-size: 13px;\n",
       "    color: #555;\n",
       "    margin-left: 4px;\n",
       "    line-height: 19px;\n",
       "  }\n",
       "</style>\n",
       "<div class=\"ansiout\">MLlib will automatically track trials in MLflow. After your tuning fit() call has completed, view the MLflow UI to see logged runs.\n",
       "Test set accuracy for LinearSVC: 98.69\n",
       "</div>"
      ]
     },
     "metadata": {},
     "output_type": "display_data"
    }
   ],
   "source": [
    "svm_cv, svm_pred, model_results = fit_model('svm', tuning=True, \n",
    "                                            results=model_results, \n",
    "                                            return_fitted=True)"
   ]
  },
  {
   "cell_type": "code",
   "execution_count": 100,
   "metadata": {},
   "outputs": [
    {
     "data": {
      "text/html": [
       "<style scoped>\n",
       "  .ansiout {\n",
       "    display: block;\n",
       "    unicode-bidi: embed;\n",
       "    white-space: pre-wrap;\n",
       "    word-wrap: break-word;\n",
       "    word-break: break-all;\n",
       "    font-family: \"Source Code Pro\", \"Menlo\", monospace;;\n",
       "    font-size: 13px;\n",
       "    color: #555;\n",
       "    margin-left: 4px;\n",
       "    line-height: 19px;\n",
       "  }\n",
       "</style>\n",
       "<div class=\"ansiout\">Best parameter setting:\n",
       "CountVectorizer: vocabSize=1000\n",
       "CountVectorizer: minDF=2.0\n",
       "LinearSVCModel: RegParam=0.0\n",
       "LinearSVCModel: MaxIter=100\n",
       "</div>"
      ]
     },
     "metadata": {},
     "output_type": "display_data"
    }
   ],
   "source": [
    "get_best_params(svm_cv)"
   ]
  },
  {
   "cell_type": "markdown",
   "metadata": {},
   "source": [
    "#### Naive Bayes"
   ]
  },
  {
   "cell_type": "code",
   "execution_count": 102,
   "metadata": {},
   "outputs": [
    {
     "data": {
      "text/html": [
       "<style scoped>\n",
       "  .ansiout {\n",
       "    display: block;\n",
       "    unicode-bidi: embed;\n",
       "    white-space: pre-wrap;\n",
       "    word-wrap: break-word;\n",
       "    word-break: break-all;\n",
       "    font-family: \"Source Code Pro\", \"Menlo\", monospace;;\n",
       "    font-size: 13px;\n",
       "    color: #555;\n",
       "    margin-left: 4px;\n",
       "    line-height: 19px;\n",
       "  }\n",
       "</style>\n",
       "<div class=\"ansiout\">MLlib will automatically track trials in MLflow. After your tuning fit() call has completed, view the MLflow UI to see logged runs.\n",
       "Test set accuracy for NaiveBayes: 98.60\n",
       "</div>"
      ]
     },
     "metadata": {},
     "output_type": "display_data"
    }
   ],
   "source": [
    "nb_cv, nb_pred, model_results = fit_model('nb', tuning=True,\n",
    "                                          results=model_results, \n",
    "                                          return_fitted=True)"
   ]
  },
  {
   "cell_type": "code",
   "execution_count": 103,
   "metadata": {},
   "outputs": [
    {
     "data": {
      "text/html": [
       "<style scoped>\n",
       "  .ansiout {\n",
       "    display: block;\n",
       "    unicode-bidi: embed;\n",
       "    white-space: pre-wrap;\n",
       "    word-wrap: break-word;\n",
       "    word-break: break-all;\n",
       "    font-family: \"Source Code Pro\", \"Menlo\", monospace;;\n",
       "    font-size: 13px;\n",
       "    color: #555;\n",
       "    margin-left: 4px;\n",
       "    line-height: 19px;\n",
       "  }\n",
       "</style>\n",
       "<div class=\"ansiout\">Best parameter setting:\n",
       "CountVectorizer: vocabSize=5000\n",
       "CountVectorizer: minDF=2.0\n",
       "NaiveBayesModel: Smoothing=1.0\n",
       "</div>"
      ]
     },
     "metadata": {},
     "output_type": "display_data"
    }
   ],
   "source": [
    "get_best_params(nb_cv)"
   ]
  },
  {
   "cell_type": "code",
   "execution_count": 104,
   "metadata": {},
   "outputs": [
    {
     "data": {
      "text/html": [
       "<div>\n",
       "<style scoped>\n",
       "    .dataframe tbody tr th:only-of-type {\n",
       "        vertical-align: middle;\n",
       "    }\n",
       "\n",
       "    .dataframe tbody tr th {\n",
       "        vertical-align: top;\n",
       "    }\n",
       "\n",
       "    .dataframe thead th {\n",
       "        text-align: right;\n",
       "    }\n",
       "</style>\n",
       "<table border=\"1\" class=\"dataframe\">\n",
       "  <thead>\n",
       "    <tr style=\"text-align: right;\">\n",
       "      <th></th>\n",
       "      <th>classifier</th>\n",
       "      <th>preprocess_all</th>\n",
       "      <th>tuning</th>\n",
       "      <th>test_score</th>\n",
       "    </tr>\n",
       "  </thead>\n",
       "  <tbody>\n",
       "    <tr>\n",
       "      <th>0</th>\n",
       "      <td>LinearSVC</td>\n",
       "      <td>True</td>\n",
       "      <td>True</td>\n",
       "      <td>0.986928</td>\n",
       "    </tr>\n",
       "    <tr>\n",
       "      <th>0</th>\n",
       "      <td>LinearSVC</td>\n",
       "      <td>True</td>\n",
       "      <td>False</td>\n",
       "      <td>0.985994</td>\n",
       "    </tr>\n",
       "    <tr>\n",
       "      <th>0</th>\n",
       "      <td>NaiveBayes</td>\n",
       "      <td>True</td>\n",
       "      <td>True</td>\n",
       "      <td>0.985994</td>\n",
       "    </tr>\n",
       "    <tr>\n",
       "      <th>0</th>\n",
       "      <td>NaiveBayes</td>\n",
       "      <td>True</td>\n",
       "      <td>False</td>\n",
       "      <td>0.981326</td>\n",
       "    </tr>\n",
       "    <tr>\n",
       "      <th>0</th>\n",
       "      <td>GBTClassifier</td>\n",
       "      <td>True</td>\n",
       "      <td>False</td>\n",
       "      <td>0.961718</td>\n",
       "    </tr>\n",
       "    <tr>\n",
       "      <th>0</th>\n",
       "      <td>LogisticRegression</td>\n",
       "      <td>False</td>\n",
       "      <td>False</td>\n",
       "      <td>0.952381</td>\n",
       "    </tr>\n",
       "    <tr>\n",
       "      <th>0</th>\n",
       "      <td>DecisionTreeClassifier</td>\n",
       "      <td>True</td>\n",
       "      <td>False</td>\n",
       "      <td>0.938375</td>\n",
       "    </tr>\n",
       "    <tr>\n",
       "      <th>0</th>\n",
       "      <td>RandomForestClassifier</td>\n",
       "      <td>True</td>\n",
       "      <td>False</td>\n",
       "      <td>0.890756</td>\n",
       "    </tr>\n",
       "  </tbody>\n",
       "</table>\n",
       "</div>"
      ]
     },
     "metadata": {},
     "output_type": "display_data"
    }
   ],
   "source": [
    "model_results.sort_values(by='test_score', ascending=False)"
   ]
  },
  {
   "cell_type": "markdown",
   "metadata": {},
   "source": [
    "Our model performances improved after tuning."
   ]
  },
  {
   "cell_type": "markdown",
   "metadata": {},
   "source": [
    "### Evaluation"
   ]
  },
  {
   "cell_type": "code",
   "execution_count": 107,
   "metadata": {},
   "outputs": [
    {
     "data": {
      "text/html": [
       "<style scoped>\n",
       "  .ansiout {\n",
       "    display: block;\n",
       "    unicode-bidi: embed;\n",
       "    white-space: pre-wrap;\n",
       "    word-wrap: break-word;\n",
       "    word-break: break-all;\n",
       "    font-family: \"Source Code Pro\", \"Menlo\", monospace;;\n",
       "    font-size: 13px;\n",
       "    color: #555;\n",
       "    margin-left: 4px;\n",
       "    line-height: 19px;\n",
       "  }\n",
       "</style>\n",
       "<div class=\"ansiout\"></div>"
      ]
     },
     "metadata": {},
     "output_type": "display_data"
    }
   ],
   "source": [
    "def plot_confusion_matrix(cm, classes,\n",
    "                          normalize=False,\n",
    "                          title='Confusion matrix',\n",
    "                          cmap=plt.cm.Blues):\n",
    "    \"\"\"\n",
    "    Reference: https://runawayhorse001.github.io/LearningApacheSpark/classification.html\n",
    "    Prints and plots the confusion matrix.\n",
    "    Normalization can be applied by setting `normalize=True`.\n",
    "    \"\"\"\n",
    "    \n",
    "#     if normalize:\n",
    "#       cm = cm.astype('float') / cm.sum(axis=1)[:, np.newaxis]\n",
    "#       print(\"Normalized confusion matrix\")\n",
    "#     else:\n",
    "#       print('Confusion matrix, without normalization')\n",
    "#     print(cm)\n",
    "    plt.imshow(cm, interpolation='nearest', cmap=cmap)\n",
    "    plt.colorbar()\n",
    "    tick_marks = np.arange(len(classes))\n",
    "    plt.xticks(tick_marks, classes)\n",
    "    plt.yticks(tick_marks, classes)\n",
    "    plt.title(title)\n",
    "    plt.ylabel('True label')\n",
    "    plt.xlabel('Predicted label')\n",
    "    \n",
    "#     fmt = '.2f' if normalize else 'd'\n",
    "    thresh = cm.max() / 2.\n",
    "    \n",
    "    for i, j in product(range(cm.shape[0]), range(cm.shape[1])):\n",
    "      plt.text(j, i, cm[i, j],\n",
    "               horizontalalignment=\"center\",\n",
    "               color=\"white\" if cm[i, j] > thresh else \"black\")\n",
    "    \n",
    "    plt.tight_layout()"
   ]
  },
  {
   "cell_type": "code",
   "execution_count": 108,
   "metadata": {},
   "outputs": [
    {
     "data": {
      "text/html": [
       "<style scoped>\n",
       "  .ansiout {\n",
       "    display: block;\n",
       "    unicode-bidi: embed;\n",
       "    white-space: pre-wrap;\n",
       "    word-wrap: break-word;\n",
       "    word-break: break-all;\n",
       "    font-family: \"Source Code Pro\", \"Menlo\", monospace;;\n",
       "    font-size: 13px;\n",
       "    color: #555;\n",
       "    margin-left: 4px;\n",
       "    line-height: 19px;\n",
       "  }\n",
       "</style>\n",
       "<div class=\"ansiout\"></div>"
      ]
     },
     "metadata": {},
     "output_type": "display_data"
    }
   ],
   "source": [
    "def evaluate_model(predictions, metric):\n",
    "  \"\"\"\n",
    "  Evaluates a model by confusion matrix and summary statistics.\n",
    "  \"\"\"\n",
    "  pred_actual = predictions.select('prediction', 'label_index').rdd\n",
    "  metrics = MulticlassMetrics(pred_actual)\n",
    "  \n",
    "  if metric == 'cm':\n",
    "    cm = metrics.confusionMatrix().toArray()\n",
    "    plot_confusion_matrix(cm, ['ham', 'spam'])\n",
    "  if metric == 'summary':\n",
    "    print('Summary Stats:')\n",
    "    print(f'Precision = {metrics.precision(1.0):.2f}')\n",
    "    print(f'Recall = {metrics.recall(1.0):.2f}')\n",
    "    print(f'F1 = {metrics.fMeasure(1.0):.2f}')"
   ]
  },
  {
   "cell_type": "code",
   "execution_count": 109,
   "metadata": {},
   "outputs": [
    {
     "data": {
      "image/png": "[encoded data removed]"
     },
     "metadata": {},
     "output_type": "display_data"
    }
   ],
   "source": [
    "evaluate_model(svm_pred, 'cm')"
   ]
  },
  {
   "cell_type": "code",
   "execution_count": 110,
   "metadata": {},
   "outputs": [
    {
     "data": {
      "image/png": "[encoded data removed]"
     },
     "metadata": {},
     "output_type": "display_data"
    }
   ],
   "source": [
    "evaluate_model(nb_pred, 'cm')"
   ]
  },
  {
   "cell_type": "code",
   "execution_count": 111,
   "metadata": {},
   "outputs": [
    {
     "data": {
      "text/html": [
       "<style scoped>\n",
       "  .ansiout {\n",
       "    display: block;\n",
       "    unicode-bidi: embed;\n",
       "    white-space: pre-wrap;\n",
       "    word-wrap: break-word;\n",
       "    word-break: break-all;\n",
       "    font-family: \"Source Code Pro\", \"Menlo\", monospace;;\n",
       "    font-size: 13px;\n",
       "    color: #555;\n",
       "    margin-left: 4px;\n",
       "    line-height: 19px;\n",
       "  }\n",
       "</style>\n",
       "<div class=\"ansiout\">Summary Stats:\n",
       "Precision = 0.99\n",
       "Recall = 0.92\n",
       "F1 = 0.95\n",
       "</div>"
      ]
     },
     "metadata": {},
     "output_type": "display_data"
    }
   ],
   "source": [
    "evaluate_model(svm_pred, 'summary')"
   ]
  },
  {
   "cell_type": "code",
   "execution_count": 112,
   "metadata": {},
   "outputs": [
    {
     "data": {
      "text/html": [
       "<style scoped>\n",
       "  .ansiout {\n",
       "    display: block;\n",
       "    unicode-bidi: embed;\n",
       "    white-space: pre-wrap;\n",
       "    word-wrap: break-word;\n",
       "    word-break: break-all;\n",
       "    font-family: \"Source Code Pro\", \"Menlo\", monospace;;\n",
       "    font-size: 13px;\n",
       "    color: #555;\n",
       "    margin-left: 4px;\n",
       "    line-height: 19px;\n",
       "  }\n",
       "</style>\n",
       "<div class=\"ansiout\">Summary Stats:\n",
       "Precision = 0.96\n",
       "Recall = 0.94\n",
       "F1 = 0.95\n",
       "</div>"
      ]
     },
     "metadata": {},
     "output_type": "display_data"
    }
   ],
   "source": [
    "evaluate_model(nb_pred, 'summary')"
   ]
  },
  {
   "cell_type": "markdown",
   "metadata": {},
   "source": [
    "As mentioned before, we would like to minimize FP (and thus maximize precision).\n",
    "\n",
    "Indeed, the tuned SVM has a lower FP (top-right cell) and a precision as high as 0.99."
   ]
  },
  {
   "cell_type": "code",
   "execution_count": 114,
   "metadata": {},
   "outputs": [
    {
     "data": {
      "text/html": [
       "<style scoped>\n",
       "  .ansiout {\n",
       "    display: block;\n",
       "    unicode-bidi: embed;\n",
       "    white-space: pre-wrap;\n",
       "    word-wrap: break-word;\n",
       "    word-break: break-all;\n",
       "    font-family: \"Source Code Pro\", \"Menlo\", monospace;;\n",
       "    font-size: 13px;\n",
       "    color: #555;\n",
       "    margin-left: 4px;\n",
       "    line-height: 19px;\n",
       "  }\n",
       "</style>\n",
       "<div class=\"ansiout\">+-----------+----------+\n",
       "label_index|prediction|\n",
       "+-----------+----------+\n",
       "        1.0|       0.0|\n",
       "        1.0|       1.0|\n",
       "        1.0|       1.0|\n",
       "        1.0|       1.0|\n",
       "        1.0|       1.0|\n",
       "        1.0|       1.0|\n",
       "        1.0|       1.0|\n",
       "        1.0|       1.0|\n",
       "        1.0|       1.0|\n",
       "        1.0|       1.0|\n",
       "+-----------+----------+\n",
       "only showing top 10 rows\n",
       "\n",
       "</div>"
      ]
     },
     "metadata": {},
     "output_type": "display_data"
    }
   ],
   "source": [
    "svm_pred.select('label_index', 'prediction')\\\n",
    "  .filter('label_index = 1')\\\n",
    "  .show(10)"
   ]
  },
  {
   "cell_type": "markdown",
   "metadata": {},
   "source": [
    "### Feature importance"
   ]
  },
  {
   "cell_type": "code",
   "execution_count": 116,
   "metadata": {},
   "outputs": [
    {
     "data": {
      "text/html": [
       "<style scoped>\n",
       "  .ansiout {\n",
       "    display: block;\n",
       "    unicode-bidi: embed;\n",
       "    white-space: pre-wrap;\n",
       "    word-wrap: break-word;\n",
       "    word-break: break-all;\n",
       "    font-family: \"Source Code Pro\", \"Menlo\", monospace;;\n",
       "    font-size: 13px;\n",
       "    color: #555;\n",
       "    margin-left: 4px;\n",
       "    line-height: 19px;\n",
       "  }\n",
       "</style>\n",
       "<div class=\"ansiout\"></div>"
      ]
     },
     "metadata": {},
     "output_type": "display_data"
    }
   ],
   "source": [
    "def get_feature_imp(cv_results, n=30):\n",
    "  \"\"\"\n",
    "  Plots top-n feature importance given a cross-validated model.\n",
    "  \"\"\"\n",
    "  stages = cv_results.bestModel.stages\n",
    "  cv = [s for s in stages if isinstance(s, CountVectorizerModel)][0]\n",
    "  model = stages[-1]\n",
    "  model_name = model.__class__.__name__\n",
    "  # Get vocabulary from CountVectorizer\n",
    "  features = cv.vocabulary\n",
    "  \n",
    "  # Get coefficients from model\n",
    "  if isinstance(model, LinearSVCModel):\n",
    "    coef = model.coefficients\n",
    "  if isinstance(model, NaiveBayesModel):\n",
    "    coef = model.theta.toArray()[1] # theta: log of class conditional probabilities\n",
    "  \n",
    "  feature_imp = pd.DataFrame({'feature': features, 'coef': coef})\n",
    "  top_n = feature_imp[['feature', 'coef']].sort_values(by='coef', ascending=False).head(n)\n",
    "  \n",
    "  fig, ax = plt.subplots(figsize=(15, 5))\n",
    "  n_highlight = n // 3\n",
    "  colors = ['darkorange' if (t in top_n.coef[:n_highlight].tolist())\\\n",
    "            else 'steelblue' for t in top_n.coef]\n",
    "  sns.barplot(x='feature', y='coef', data=top_n, ax=ax, palette=colors)\n",
    "  ax.set_xticklabels(ax.get_xticklabels(), rotation=45)\n",
    "  ax.set_xlabel('Word')\n",
    "  ax.set_ylabel('Importance')\n",
    "  ax.set_title(f'Top {n} Words to Be Predicted as Spam by {model_name}', fontsize=14)"
   ]
  },
  {
   "cell_type": "code",
   "execution_count": 117,
   "metadata": {},
   "outputs": [
    {
     "data": {
      "image/png": "[encoded data removed]"
     },
     "metadata": {},
     "output_type": "display_data"
    }
   ],
   "source": [
    "get_feature_imp(svm_cv)"
   ]
  },
  {
   "cell_type": "code",
   "execution_count": 118,
   "metadata": {},
   "outputs": [
    {
     "data": {
      "image/png": "[encoded data removed]"
     },
     "metadata": {},
     "output_type": "display_data"
    }
   ],
   "source": [
    "get_feature_imp(nb_cv)"
   ]
  },
  {
   "cell_type": "markdown",
   "metadata": {},
   "source": [
    "Based on the coefficients, the top 30 words that will be predicted as spam by our model were plotted. \n",
    "\n",
    "Such a finding aligns with the wordcloud we formed before. \n",
    "\n",
    "In conclusion, common spam-trigger words are\n",
    "- Manipulative words, e.g., 'call', 'txt'/'text', 'msg', 'subscription'\n",
    "- Needy words, e.g., 'free'/'freephone'/'freemsg', 'new', 'prize'\n",
    "- Cheap words, e.g., 'win'\n",
    "- Far-fetched words, e.g., 'fancy', 'fantasy'\n",
    "- Sleezy words, e.g., 'order'\n",
    "\n",
    "In addition, spams seem to include links, e.g., 'link', 'www', 'com'."
   ]
  }
 ],
 "metadata": {
  "kernelspec": {
   "display_name": "Python 3",
   "language": "python",
   "name": "python3"
  },
  "language_info": {
   "codemirror_mode": {
    "name": "ipython",
    "version": 3
   },
   "file_extension": ".py",
   "mimetype": "text/x-python",
   "name": "python",
   "nbconvert_exporter": "python",
   "pygments_lexer": "ipython3",
   "version": "3.8.3"
  },
  "name": "spam_detection",
  "notebookId": 3330282091924483
 },
 "nbformat": 4,
 "nbformat_minor": 1
}
